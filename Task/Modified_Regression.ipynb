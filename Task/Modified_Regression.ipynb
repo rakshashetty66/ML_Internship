{
 "cells": [
  {
   "cell_type": "code",
   "execution_count": 2,
   "id": "54b31a64-b2d1-49d9-a2de-535e7cfdf5a4",
   "metadata": {},
   "outputs": [],
   "source": [
    "import pandas as pd"
   ]
  },
  {
   "cell_type": "code",
   "execution_count": 9,
   "id": "52931840-7c49-4427-98a1-a8a475a66a19",
   "metadata": {},
   "outputs": [],
   "source": [
    "df=pd.read_csv(r\"C:\\Users\\raksh\\Downloads\\netflix.csv\")"
   ]
  },
  {
   "cell_type": "code",
   "execution_count": 10,
   "id": "b67d9bdb-14bb-4428-ba5d-df71fe563bfe",
   "metadata": {},
   "outputs": [
    {
     "data": {
      "text/html": [
       "<div>\n",
       "<style scoped>\n",
       "    .dataframe tbody tr th:only-of-type {\n",
       "        vertical-align: middle;\n",
       "    }\n",
       "\n",
       "    .dataframe tbody tr th {\n",
       "        vertical-align: top;\n",
       "    }\n",
       "\n",
       "    .dataframe thead th {\n",
       "        text-align: right;\n",
       "    }\n",
       "</style>\n",
       "<table border=\"1\" class=\"dataframe\">\n",
       "  <thead>\n",
       "    <tr style=\"text-align: right;\">\n",
       "      <th></th>\n",
       "      <th>Date</th>\n",
       "      <th>Open</th>\n",
       "      <th>High</th>\n",
       "      <th>Low</th>\n",
       "      <th>Close</th>\n",
       "      <th>Adj Close</th>\n",
       "      <th>Volume</th>\n",
       "    </tr>\n",
       "  </thead>\n",
       "  <tbody>\n",
       "    <tr>\n",
       "      <th>0</th>\n",
       "      <td>Feb 25, 2025</td>\n",
       "      <td>989.4</td>\n",
       "      <td>994.4</td>\n",
       "      <td>955</td>\n",
       "      <td>977.24</td>\n",
       "      <td>977.24</td>\n",
       "      <td>4,733,000</td>\n",
       "    </tr>\n",
       "    <tr>\n",
       "      <th>1</th>\n",
       "      <td>Feb 24, 2025</td>\n",
       "      <td>1,008.00</td>\n",
       "      <td>1,015.17</td>\n",
       "      <td>984.48</td>\n",
       "      <td>988.47</td>\n",
       "      <td>988.47</td>\n",
       "      <td>4,426,200</td>\n",
       "    </tr>\n",
       "    <tr>\n",
       "      <th>2</th>\n",
       "      <td>Feb 21, 2025</td>\n",
       "      <td>1,029.42</td>\n",
       "      <td>1,032.38</td>\n",
       "      <td>999.39</td>\n",
       "      <td>1,003.15</td>\n",
       "      <td>1,003.15</td>\n",
       "      <td>3,738,700</td>\n",
       "    </tr>\n",
       "    <tr>\n",
       "      <th>3</th>\n",
       "      <td>Feb 20, 2025</td>\n",
       "      <td>1,042.00</td>\n",
       "      <td>1,045.00</td>\n",
       "      <td>1,015.59</td>\n",
       "      <td>1,024.54</td>\n",
       "      <td>1,024.54</td>\n",
       "      <td>3,111,800</td>\n",
       "    </tr>\n",
       "    <tr>\n",
       "      <th>4</th>\n",
       "      <td>Feb 19, 2025</td>\n",
       "      <td>1,035.18</td>\n",
       "      <td>1,045.00</td>\n",
       "      <td>1,024.51</td>\n",
       "      <td>1,043.33</td>\n",
       "      <td>1,043.33</td>\n",
       "      <td>2,600,000</td>\n",
       "    </tr>\n",
       "    <tr>\n",
       "      <th>...</th>\n",
       "      <td>...</td>\n",
       "      <td>...</td>\n",
       "      <td>...</td>\n",
       "      <td>...</td>\n",
       "      <td>...</td>\n",
       "      <td>...</td>\n",
       "      <td>...</td>\n",
       "    </tr>\n",
       "    <tr>\n",
       "      <th>5724</th>\n",
       "      <td>May 30, 2002</td>\n",
       "      <td>1.11</td>\n",
       "      <td>1.11</td>\n",
       "      <td>1.07</td>\n",
       "      <td>1.07</td>\n",
       "      <td>1.07</td>\n",
       "      <td>10,154,200</td>\n",
       "    </tr>\n",
       "    <tr>\n",
       "      <th>5725</th>\n",
       "      <td>May 29, 2002</td>\n",
       "      <td>1.16</td>\n",
       "      <td>1.16</td>\n",
       "      <td>1.09</td>\n",
       "      <td>1.1</td>\n",
       "      <td>1.1</td>\n",
       "      <td>6,757,800</td>\n",
       "    </tr>\n",
       "    <tr>\n",
       "      <th>5726</th>\n",
       "      <td>May 28, 2002</td>\n",
       "      <td>1.21</td>\n",
       "      <td>1.23</td>\n",
       "      <td>1.16</td>\n",
       "      <td>1.16</td>\n",
       "      <td>1.16</td>\n",
       "      <td>6,609,400</td>\n",
       "    </tr>\n",
       "    <tr>\n",
       "      <th>5727</th>\n",
       "      <td>May 24, 2002</td>\n",
       "      <td>1.21</td>\n",
       "      <td>1.23</td>\n",
       "      <td>1.2</td>\n",
       "      <td>1.21</td>\n",
       "      <td>1.21</td>\n",
       "      <td>11,104,800</td>\n",
       "    </tr>\n",
       "    <tr>\n",
       "      <th>5728</th>\n",
       "      <td>May 23, 2002</td>\n",
       "      <td>1.16</td>\n",
       "      <td>1.24</td>\n",
       "      <td>1.15</td>\n",
       "      <td>1.2</td>\n",
       "      <td>1.2</td>\n",
       "      <td>104,790,000</td>\n",
       "    </tr>\n",
       "  </tbody>\n",
       "</table>\n",
       "<p>5729 rows × 7 columns</p>\n",
       "</div>"
      ],
      "text/plain": [
       "              Date     Open       High       Low     Close Adj Close  \\\n",
       "0     Feb 25, 2025     989.4     994.4       955    977.24    977.24   \n",
       "1     Feb 24, 2025  1,008.00  1,015.17    984.48    988.47    988.47   \n",
       "2     Feb 21, 2025  1,029.42  1,032.38    999.39  1,003.15  1,003.15   \n",
       "3     Feb 20, 2025  1,042.00  1,045.00  1,015.59  1,024.54  1,024.54   \n",
       "4     Feb 19, 2025  1,035.18  1,045.00  1,024.51  1,043.33  1,043.33   \n",
       "...            ...       ...       ...       ...       ...       ...   \n",
       "5724  May 30, 2002      1.11      1.11      1.07      1.07      1.07   \n",
       "5725  May 29, 2002      1.16      1.16      1.09       1.1       1.1   \n",
       "5726  May 28, 2002      1.21      1.23      1.16      1.16      1.16   \n",
       "5727  May 24, 2002      1.21      1.23       1.2      1.21      1.21   \n",
       "5728  May 23, 2002      1.16      1.24      1.15       1.2       1.2   \n",
       "\n",
       "           Volume  \n",
       "0       4,733,000  \n",
       "1       4,426,200  \n",
       "2       3,738,700  \n",
       "3       3,111,800  \n",
       "4       2,600,000  \n",
       "...           ...  \n",
       "5724   10,154,200  \n",
       "5725    6,757,800  \n",
       "5726    6,609,400  \n",
       "5727   11,104,800  \n",
       "5728  104,790,000  \n",
       "\n",
       "[5729 rows x 7 columns]"
      ]
     },
     "execution_count": 10,
     "metadata": {},
     "output_type": "execute_result"
    }
   ],
   "source": [
    "df"
   ]
  },
  {
   "cell_type": "code",
   "execution_count": 11,
   "id": "4961cbde-4617-4924-866b-af1464df1490",
   "metadata": {},
   "outputs": [
    {
     "data": {
      "text/html": [
       "<div>\n",
       "<style scoped>\n",
       "    .dataframe tbody tr th:only-of-type {\n",
       "        vertical-align: middle;\n",
       "    }\n",
       "\n",
       "    .dataframe tbody tr th {\n",
       "        vertical-align: top;\n",
       "    }\n",
       "\n",
       "    .dataframe thead th {\n",
       "        text-align: right;\n",
       "    }\n",
       "</style>\n",
       "<table border=\"1\" class=\"dataframe\">\n",
       "  <thead>\n",
       "    <tr style=\"text-align: right;\">\n",
       "      <th></th>\n",
       "      <th>Date</th>\n",
       "      <th>Open</th>\n",
       "      <th>High</th>\n",
       "      <th>Low</th>\n",
       "      <th>Close</th>\n",
       "      <th>Adj Close</th>\n",
       "      <th>Volume</th>\n",
       "    </tr>\n",
       "  </thead>\n",
       "  <tbody>\n",
       "    <tr>\n",
       "      <th>0</th>\n",
       "      <td>Feb 25, 2025</td>\n",
       "      <td>989.4</td>\n",
       "      <td>994.4</td>\n",
       "      <td>955</td>\n",
       "      <td>977.24</td>\n",
       "      <td>977.24</td>\n",
       "      <td>4,733,000</td>\n",
       "    </tr>\n",
       "    <tr>\n",
       "      <th>1</th>\n",
       "      <td>Feb 24, 2025</td>\n",
       "      <td>1,008.00</td>\n",
       "      <td>1,015.17</td>\n",
       "      <td>984.48</td>\n",
       "      <td>988.47</td>\n",
       "      <td>988.47</td>\n",
       "      <td>4,426,200</td>\n",
       "    </tr>\n",
       "    <tr>\n",
       "      <th>2</th>\n",
       "      <td>Feb 21, 2025</td>\n",
       "      <td>1,029.42</td>\n",
       "      <td>1,032.38</td>\n",
       "      <td>999.39</td>\n",
       "      <td>1,003.15</td>\n",
       "      <td>1,003.15</td>\n",
       "      <td>3,738,700</td>\n",
       "    </tr>\n",
       "    <tr>\n",
       "      <th>3</th>\n",
       "      <td>Feb 20, 2025</td>\n",
       "      <td>1,042.00</td>\n",
       "      <td>1,045.00</td>\n",
       "      <td>1,015.59</td>\n",
       "      <td>1,024.54</td>\n",
       "      <td>1,024.54</td>\n",
       "      <td>3,111,800</td>\n",
       "    </tr>\n",
       "    <tr>\n",
       "      <th>4</th>\n",
       "      <td>Feb 19, 2025</td>\n",
       "      <td>1,035.18</td>\n",
       "      <td>1,045.00</td>\n",
       "      <td>1,024.51</td>\n",
       "      <td>1,043.33</td>\n",
       "      <td>1,043.33</td>\n",
       "      <td>2,600,000</td>\n",
       "    </tr>\n",
       "  </tbody>\n",
       "</table>\n",
       "</div>"
      ],
      "text/plain": [
       "           Date     Open       High       Low     Close Adj Close     Volume\n",
       "0  Feb 25, 2025     989.4     994.4       955    977.24    977.24  4,733,000\n",
       "1  Feb 24, 2025  1,008.00  1,015.17    984.48    988.47    988.47  4,426,200\n",
       "2  Feb 21, 2025  1,029.42  1,032.38    999.39  1,003.15  1,003.15  3,738,700\n",
       "3  Feb 20, 2025  1,042.00  1,045.00  1,015.59  1,024.54  1,024.54  3,111,800\n",
       "4  Feb 19, 2025  1,035.18  1,045.00  1,024.51  1,043.33  1,043.33  2,600,000"
      ]
     },
     "execution_count": 11,
     "metadata": {},
     "output_type": "execute_result"
    }
   ],
   "source": [
    "df.head()"
   ]
  },
  {
   "cell_type": "code",
   "execution_count": 12,
   "id": "bc2181ee-a37a-4cd8-97ac-d85df718c7e1",
   "metadata": {},
   "outputs": [
    {
     "data": {
      "text/html": [
       "<div>\n",
       "<style scoped>\n",
       "    .dataframe tbody tr th:only-of-type {\n",
       "        vertical-align: middle;\n",
       "    }\n",
       "\n",
       "    .dataframe tbody tr th {\n",
       "        vertical-align: top;\n",
       "    }\n",
       "\n",
       "    .dataframe thead th {\n",
       "        text-align: right;\n",
       "    }\n",
       "</style>\n",
       "<table border=\"1\" class=\"dataframe\">\n",
       "  <thead>\n",
       "    <tr style=\"text-align: right;\">\n",
       "      <th></th>\n",
       "      <th>Date</th>\n",
       "      <th>Open</th>\n",
       "      <th>High</th>\n",
       "      <th>Low</th>\n",
       "      <th>Close</th>\n",
       "      <th>Adj Close</th>\n",
       "      <th>Volume</th>\n",
       "    </tr>\n",
       "  </thead>\n",
       "  <tbody>\n",
       "    <tr>\n",
       "      <th>5724</th>\n",
       "      <td>May 30, 2002</td>\n",
       "      <td>1.11</td>\n",
       "      <td>1.11</td>\n",
       "      <td>1.07</td>\n",
       "      <td>1.07</td>\n",
       "      <td>1.07</td>\n",
       "      <td>10,154,200</td>\n",
       "    </tr>\n",
       "    <tr>\n",
       "      <th>5725</th>\n",
       "      <td>May 29, 2002</td>\n",
       "      <td>1.16</td>\n",
       "      <td>1.16</td>\n",
       "      <td>1.09</td>\n",
       "      <td>1.1</td>\n",
       "      <td>1.1</td>\n",
       "      <td>6,757,800</td>\n",
       "    </tr>\n",
       "    <tr>\n",
       "      <th>5726</th>\n",
       "      <td>May 28, 2002</td>\n",
       "      <td>1.21</td>\n",
       "      <td>1.23</td>\n",
       "      <td>1.16</td>\n",
       "      <td>1.16</td>\n",
       "      <td>1.16</td>\n",
       "      <td>6,609,400</td>\n",
       "    </tr>\n",
       "    <tr>\n",
       "      <th>5727</th>\n",
       "      <td>May 24, 2002</td>\n",
       "      <td>1.21</td>\n",
       "      <td>1.23</td>\n",
       "      <td>1.2</td>\n",
       "      <td>1.21</td>\n",
       "      <td>1.21</td>\n",
       "      <td>11,104,800</td>\n",
       "    </tr>\n",
       "    <tr>\n",
       "      <th>5728</th>\n",
       "      <td>May 23, 2002</td>\n",
       "      <td>1.16</td>\n",
       "      <td>1.24</td>\n",
       "      <td>1.15</td>\n",
       "      <td>1.2</td>\n",
       "      <td>1.2</td>\n",
       "      <td>104,790,000</td>\n",
       "    </tr>\n",
       "  </tbody>\n",
       "</table>\n",
       "</div>"
      ],
      "text/plain": [
       "              Date Open   High   Low Close Adj Close       Volume\n",
       "5724  May 30, 2002  1.11  1.11  1.07  1.07      1.07   10,154,200\n",
       "5725  May 29, 2002  1.16  1.16  1.09   1.1       1.1    6,757,800\n",
       "5726  May 28, 2002  1.21  1.23  1.16  1.16      1.16    6,609,400\n",
       "5727  May 24, 2002  1.21  1.23   1.2  1.21      1.21   11,104,800\n",
       "5728  May 23, 2002  1.16  1.24  1.15   1.2       1.2  104,790,000"
      ]
     },
     "execution_count": 12,
     "metadata": {},
     "output_type": "execute_result"
    }
   ],
   "source": [
    "df.tail()"
   ]
  },
  {
   "cell_type": "code",
   "execution_count": 13,
   "id": "e2f5e1f2-638a-4cf3-8e5a-8820a5b58194",
   "metadata": {},
   "outputs": [
    {
     "name": "stdout",
     "output_type": "stream",
     "text": [
      "<class 'pandas.core.frame.DataFrame'>\n",
      "RangeIndex: 5729 entries, 0 to 5728\n",
      "Data columns (total 7 columns):\n",
      " #   Column     Non-Null Count  Dtype \n",
      "---  ------     --------------  ----- \n",
      " 0   Date       5729 non-null   object\n",
      " 1   Open       5729 non-null   object\n",
      " 2   High       5727 non-null   object\n",
      " 3   Low        5727 non-null   object\n",
      " 4   Close      5727 non-null   object\n",
      " 5   Adj Close  5727 non-null   object\n",
      " 6   Volume     5727 non-null   object\n",
      "dtypes: object(7)\n",
      "memory usage: 313.4+ KB\n"
     ]
    }
   ],
   "source": [
    "df.info()\n",
    "\n"
   ]
  },
  {
   "cell_type": "code",
   "execution_count": 14,
   "id": "b5a28619-d449-4fde-933a-ed23346b2ce4",
   "metadata": {},
   "outputs": [
    {
     "data": {
      "text/plain": [
       "Date         0\n",
       "Open         0\n",
       "High         2\n",
       "Low          2\n",
       "Close        2\n",
       "Adj Close    2\n",
       "Volume       2\n",
       "dtype: int64"
      ]
     },
     "execution_count": 14,
     "metadata": {},
     "output_type": "execute_result"
    }
   ],
   "source": [
    "df.isna().sum()\n"
   ]
  },
  {
   "cell_type": "code",
   "execution_count": 15,
   "id": "198746a6-13d4-4302-8016-859fe42ac694",
   "metadata": {},
   "outputs": [
    {
     "data": {
      "text/html": [
       "<div>\n",
       "<style scoped>\n",
       "    .dataframe tbody tr th:only-of-type {\n",
       "        vertical-align: middle;\n",
       "    }\n",
       "\n",
       "    .dataframe tbody tr th {\n",
       "        vertical-align: top;\n",
       "    }\n",
       "\n",
       "    .dataframe thead th {\n",
       "        text-align: right;\n",
       "    }\n",
       "</style>\n",
       "<table border=\"1\" class=\"dataframe\">\n",
       "  <thead>\n",
       "    <tr style=\"text-align: right;\">\n",
       "      <th></th>\n",
       "      <th>Date</th>\n",
       "      <th>Open</th>\n",
       "      <th>High</th>\n",
       "      <th>Low</th>\n",
       "      <th>Close</th>\n",
       "      <th>Adj Close</th>\n",
       "      <th>Volume</th>\n",
       "    </tr>\n",
       "  </thead>\n",
       "  <tbody>\n",
       "    <tr>\n",
       "      <th>count</th>\n",
       "      <td>5729</td>\n",
       "      <td>5729</td>\n",
       "      <td>5727</td>\n",
       "      <td>5727</td>\n",
       "      <td>5727</td>\n",
       "      <td>5727</td>\n",
       "      <td>5727</td>\n",
       "    </tr>\n",
       "    <tr>\n",
       "      <th>unique</th>\n",
       "      <td>5727</td>\n",
       "      <td>4092</td>\n",
       "      <td>4114</td>\n",
       "      <td>4113</td>\n",
       "      <td>4164</td>\n",
       "      <td>4164</td>\n",
       "      <td>5560</td>\n",
       "    </tr>\n",
       "    <tr>\n",
       "      <th>top</th>\n",
       "      <td>Jul 15, 2015</td>\n",
       "      <td>2.86</td>\n",
       "      <td>4.14</td>\n",
       "      <td>1.61</td>\n",
       "      <td>3.96</td>\n",
       "      <td>3.96</td>\n",
       "      <td>14,634,900</td>\n",
       "    </tr>\n",
       "    <tr>\n",
       "      <th>freq</th>\n",
       "      <td>2</td>\n",
       "      <td>14</td>\n",
       "      <td>15</td>\n",
       "      <td>16</td>\n",
       "      <td>14</td>\n",
       "      <td>14</td>\n",
       "      <td>3</td>\n",
       "    </tr>\n",
       "  </tbody>\n",
       "</table>\n",
       "</div>"
      ],
      "text/plain": [
       "                Date Open   High   Low Close Adj Close      Volume\n",
       "count           5729  5729  5727  5727  5727      5727        5727\n",
       "unique          5727  4092  4114  4113  4164      4164        5560\n",
       "top     Jul 15, 2015  2.86  4.14  1.61  3.96      3.96  14,634,900\n",
       "freq               2    14    15    16    14        14           3"
      ]
     },
     "execution_count": 15,
     "metadata": {},
     "output_type": "execute_result"
    }
   ],
   "source": [
    "df.describe()\n"
   ]
  },
  {
   "cell_type": "code",
   "execution_count": 19,
   "id": "10523a89-1896-48ba-a3fe-c62e30dc08e0",
   "metadata": {},
   "outputs": [
    {
     "data": {
      "image/png": "[encoded data removed]",
      "text/plain": [
       "<Figure size 640x480 with 1 Axes>"
      ]
     },
     "metadata": {},
     "output_type": "display_data"
    }
   ],
   "source": [
    "import matplotlib.pyplot as plt\n",
    "\n",
    "df.columns = df.columns.str.strip()  # Remove extra spaces in column names\n",
    "\n",
    "df['Close'].hist(bins=20, color='lightblue', edgecolor='black')\n",
    "\n",
    "plt.title(\"Stock Closing Price Distribution\")\n",
    "plt.xlabel(\"Closing Price\")\n",
    "plt.ylabel(\"Frequency\")\n",
    "plt.show()"
   ]
  },
  {
   "cell_type": "code",
   "execution_count": null,
   "id": "7c5cae91-facc-4aa2-91be-be9b1064f15d",
   "metadata": {},
   "outputs": [],
   "source": [
    "import matplotlib.pyplot as plt\n",
    "df['Height'].hist(bins=20,color='pink',edgecolor='black')\n",
    "plt.title(\"The height vs The frequency\")\n",
    "plt.xlabel('Height')\n",
    "plt.ylabel(\"Frequency\")\n",
    "plt.show()"
   ]
  },
  {
   "cell_type": "code",
   "execution_count": null,
   "id": "2800b63c-286e-41f7-9788-f257d45cc81c",
   "metadata": {},
   "outputs": [],
   "source": [
    "import matplotlib.pyplot as plt\n",
    "\n",
    "df['Weight'].hist(bins=20, color='lightgray', edgecolor='black')\n",
    "plt.title(\"The Weight vs The Frequency\")\n",
    "plt.xlabel('Weight')\n",
    "plt.ylabel(\"Frequency\")\n",
    "plt.show()"
   ]
  },
  {
   "cell_type": "code",
   "execution_count": null,
   "id": "6a1cdb7f-3562-40f1-939d-4a74d64bee7b",
   "metadata": {},
   "outputs": [],
   "source": [
    "df"
   ]
  },
  {
   "cell_type": "code",
   "execution_count": null,
   "id": "9a889907-c027-4d8d-a54a-832efb3475c1",
   "metadata": {},
   "outputs": [],
   "source": [
    "import matplotlib.pyplot as plt\n",
    "gen=df[df['Age']>30][['Weight','Height']]\n",
    "x=gen['Weight']\n",
    "y=gen['Height']\n",
    "plt.figure(figsize=(8,6),dpi=60)\n",
    "plt.title(\"Weight vs Height\")\n",
    "plt.xlabel(\"Weight of a person\")\n",
    "plt.ylabel(\"Height of a person\")\n",
    "plt.scatter(x,y, color='lightcoral')"
   ]
  },
  {
   "cell_type": "code",
   "execution_count": null,
   "id": "eee52e78-7ff0-49d6-8225-c32477759c55",
   "metadata": {},
   "outputs": [],
   "source": [
    "import matplotlib.pyplot as plt\n",
    "gen=df[df['Age']>30][['Weight','Height']]\n",
    "x=gen['Weight']\n",
    "y=gen['Height']\n",
    "plt.figure(figsize=(8,6),dpi=60)\n",
    "plt.title(\"Weight vs Height\")\n",
    "plt.xlabel(\"Weight of a person\")\n",
    "plt.ylabel(\"Height of a person\")\n",
    "plt.plot(x,y)"
   ]
  },
  {
   "cell_type": "code",
   "execution_count": null,
   "id": "c39798fd-8ff5-4af6-be1a-20193fc4c3ac",
   "metadata": {},
   "outputs": [],
   "source": [
    "df"
   ]
  },
  {
   "cell_type": "code",
   "execution_count": null,
   "id": "0243996c-82f8-4513-a156-d7cc12568cd6",
   "metadata": {},
   "outputs": [],
   "source": [
    "import matplotlib.pyplot as plt\n",
    "import pandas as pd\n",
    "\n",
    "# Load your dataset\n",
    "df = pd.read_csv(r\"C:\\Users\\raksh\\Downloads\\ObesityDataSet_raw_and_data_sinthetic.csv\")  # Change to your actual file path\n",
    "\n",
    "# Clean column names (strip spaces)\n",
    "df.columns = df.columns.str.strip()\n",
    "\n",
    "# Convert 'SMOKE' column values to lowercase\n",
    "df['SMOKE'] = df['SMOKE'].astype(str).str.lower()\n",
    "\n",
    "# Filter data where smoking status is 'yes'\n",
    "if 'SMOKE' in df.columns and 'Gender' in df.columns:\n",
    "    gen = df[df['SMOKE'] == 'yes']['Gender'].map(lambda x: 'Male' if x == 'Male' else 'Female')\n",
    "\n",
    "    # Count occurrences\n",
    "    heart = gen.value_counts()\n",
    "\n",
    "    # Plot the bar chart\n",
    "    plt.figure(figsize=(8, 6), dpi=60)\n",
    "    plt.bar(heart.index, heart.values, color='peachpuff')\n",
    "    plt.title(\"Gender Distribution of Smokers\")\n",
    "    plt.xlabel('Gender')\n",
    "    plt.ylabel('Counts')\n",
    "    plt.show()\n",
    "else:\n",
    "    print(\"❌ Column 'SMOKE' or 'Gender' not found in the dataframe.\")\n"
   ]
  },
  {
   "cell_type": "code",
   "execution_count": null,
   "id": "fd486b25-02f0-491d-943c-f662df1e3379",
   "metadata": {},
   "outputs": [],
   "source": [
    "import matplotlib.pyplot as plt\n",
    "\n",
    "# Count occurrences of family history and FAVC within Obesity Type III\n",
    "heart_counts = df[df['NObeyesdad'] == 'Obesity_Type_III'][['family_history_with_overweight', 'FAVC']].apply(pd.Series.value_counts)\n",
    "\n",
    "# Summing occurrences across both categories\n",
    "heart_summed = heart_counts.sum(axis=1)  # Sum counts across columns\n",
    "\n",
    "# Extracting labels and values\n",
    "labels = heart_summed.index  # Categories\n",
    "sizes = heart_summed.values  # Corresponding counts\n",
    "\n",
    "# Plotting the pie chart\n",
    "plt.figure(figsize=(8,6), dpi=100)\n",
    "plt.pie(sizes, labels=labels, colors=['orange', 'lightblue', 'pink'], autopct='%1.1f%%')\n",
    "plt.legend(labels)\n",
    "plt.title(\"Distribution of Family History & FAVC in Obesity Type III\")\n",
    "plt.show()\n"
   ]
  },
  {
   "cell_type": "code",
   "execution_count": null,
   "id": "3bb479d3-5243-4070-b100-320dd3e9eb06",
   "metadata": {},
   "outputs": [],
   "source": [
    "df.info()"
   ]
  },
  {
   "cell_type": "code",
   "execution_count": null,
   "id": "e6ade8fc-3609-4203-abb0-950d555a7336",
   "metadata": {},
   "outputs": [],
   "source": [
    "columns_to_drop = ['NObeyesdad', 'MTRANS', 'SCC', 'SMOKE', 'CAEC']\n",
    "\n",
    "# Drop only if they exist\n",
    "df = df.drop(columns=[col for col in columns_to_drop if col in df.columns])"
   ]
  },
  {
   "cell_type": "code",
   "execution_count": null,
   "id": "828a3cad-c7b6-44bb-ada3-7124e0cfc110",
   "metadata": {},
   "outputs": [],
   "source": [
    "df.info()"
   ]
  },
  {
   "cell_type": "code",
   "execution_count": null,
   "id": "d95f61a4-7f0c-4ae3-a8bb-159d894c666b",
   "metadata": {},
   "outputs": [],
   "source": [
    "# df['Gender'].unique()"
   ]
  },
  {
   "cell_type": "code",
   "execution_count": null,
   "id": "eaab6b49-26cb-4527-a751-11001813d129",
   "metadata": {},
   "outputs": [],
   "source": [
    "# df['Gender']=df['Gender'].map({'Female':0,'Male':1,'Other':2})"
   ]
  },
  {
   "cell_type": "code",
   "execution_count": null,
   "id": "c112ff60-ccc8-4e02-90f5-b8e034fb7509",
   "metadata": {},
   "outputs": [],
   "source": [
    "import pandas as pd\n",
    "from sklearn.preprocessing import OneHotEncoder\n",
    "\n",
    "# Initialize OneHotEncoder with updated argument\n",
    "encoder = OneHotEncoder(drop='first', sparse_output=False)  # Updated argument name\n",
    "\n",
    "# Fit and transform the 'Gender' column\n",
    "encoded_array = encoder.fit_transform(df[['Gender']])\n",
    "\n",
    "# Convert to DataFrame\n",
    "encoded_df = pd.DataFrame(encoded_array, columns=encoder.get_feature_names_out(['Gender']))\n",
    "\n",
    "# Drop original 'Gender' column and merge the encoded data\n",
    "df = df.drop(columns=['Gender']).reset_index(drop=True)\n",
    "df = pd.concat([df, encoded_df], axis=1)\n",
    "\n",
    "# Display the updated DataFrame\n",
    "print(df.head())\n",
    "\n"
   ]
  },
  {
   "cell_type": "code",
   "execution_count": null,
   "id": "1af0069d-aa0e-49a8-aa24-29af9eac4e51",
   "metadata": {},
   "outputs": [],
   "source": [
    "# df=pd.get_dummies(df,columns=['family_history_with_overweight'],dtype=int)\n",
    "# df"
   ]
  },
  {
   "cell_type": "code",
   "execution_count": null,
   "id": "3005304b-b320-4494-bb14-7993759d7f45",
   "metadata": {},
   "outputs": [],
   "source": [
    "# df.info()"
   ]
  },
  {
   "cell_type": "code",
   "execution_count": null,
   "id": "a8c2d5c5-c228-4d4f-80de-96cee3f158ac",
   "metadata": {},
   "outputs": [],
   "source": [
    "# df['FAVC'].unique()"
   ]
  },
  {
   "cell_type": "code",
   "execution_count": null,
   "id": "41274fc8-ff53-4539-8220-a0b79aa5470c",
   "metadata": {},
   "outputs": [],
   "source": [
    "# df['FAVC']=df['FAVC'].map({'no':0,'yes':1})"
   ]
  },
  {
   "cell_type": "code",
   "execution_count": null,
   "id": "f23c2258-1a5e-4342-89fe-ec15a624bc3b",
   "metadata": {},
   "outputs": [],
   "source": [
    "# #step1:import\n",
    "# from sklearn.preprocessing import LabelEncoder\n",
    "# #step2:Create object for class\n",
    "# lb=LabelEncoder()\n",
    "# #step3:Pass the data totransform here if thereare multiple columns if you are considering then you have to create different label objects\n",
    "# df['CALC']=lb.fit_transform(df['CALC'])\n",
    "# df"
   ]
  },
  {
   "cell_type": "code",
   "execution_count": null,
   "id": "3a4941fd-0908-47f4-b325-759f90af2e65",
   "metadata": {},
   "outputs": [],
   "source": []
  },
  {
   "cell_type": "code",
   "execution_count": null,
   "id": "bc963439-4d89-4288-b10a-218a6a18a7ab",
   "metadata": {},
   "outputs": [],
   "source": []
  },
  {
   "cell_type": "code",
   "execution_count": null,
   "id": "0ab52e9d-7867-41aa-87a7-d8730e98d38e",
   "metadata": {},
   "outputs": [],
   "source": []
  },
  {
   "cell_type": "code",
   "execution_count": null,
   "id": "f4c3cf64-8a47-45c1-8cb8-33c76eec4a6e",
   "metadata": {},
   "outputs": [],
   "source": []
  },
  {
   "cell_type": "code",
   "execution_count": null,
   "id": "554cb796-47f9-4a8f-85d1-9c4b708cd530",
   "metadata": {},
   "outputs": [],
   "source": []
  },
  {
   "cell_type": "code",
   "execution_count": null,
   "id": "fcfd1294-1fdc-4eb2-9ce9-ccfa825f4aad",
   "metadata": {},
   "outputs": [],
   "source": []
  }
 ],
 "metadata": {
  "kernelspec": {
   "display_name": "Python 3 (ipykernel)",
   "language": "python",
   "name": "python3"
  },
  "language_info": {
   "codemirror_mode": {
    "name": "ipython",
    "version": 3
   },
   "file_extension": ".py",
   "mimetype": "text/x-python",
   "name": "python",
   "nbconvert_exporter": "python",
   "pygments_lexer": "ipython3",
   "version": "3.11.7"
  }
 },
 "nbformat": 4,
 "nbformat_minor": 5
}
