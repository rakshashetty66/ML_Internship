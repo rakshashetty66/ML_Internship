{
 "cells": [
  {
   "cell_type": "code",
   "execution_count": null,
   "id": "5c2c75bd-2bf5-4dbf-ab57-7a0d70fe07d1",
   "metadata": {},
   "outputs": [
    {
     "name": "stdout",
     "output_type": "stream",
     "text": [
      "------------------------------------ Welcome to ATM ---------------------------------------\n"
     ]
    }
   ],
   "source": [
    "print(\"------------------------------------ Welcome to ATM ---------------------------------------\")\n",
    "\n",
    "pin1 = 1234\n",
    "amount1 = 0  \n",
    "\n",
    "pin = int(input(\"Please enter the PIN: \"))\n",
    "\n",
    "if pin == pin1:\n",
    "    print(\"Authentication Successful!....\")\n",
    "    i=1\n",
    "else:\n",
    "    print(\"Invalid Pin!....\")\n",
    "    i=0\n",
    "\n",
    "while i==1:\n",
    "        print(\"------------------------------------------------------------------------------------------\")\n",
    "        print(\"1. Check Balance\\n2. Withdraw\\n3. Deposit\\n4. Exit\")\n",
    "        \n",
    "        transaction = int(input(\"Please select an option: \"))\n",
    "\n",
    "        if transaction == 1:\n",
    "            print(\"Amount in your account is: ₹\", amount1)\n",
    "\n",
    "        elif transaction == 2:\n",
    "            withdrawal = int(input(\"Please enter amount for withdrawal: \"))\n",
    "            if withdrawal > amount1:\n",
    "                print(\"Insufficient balance! Please enter a smaller amount.\")\n",
    "            else:\n",
    "                amount1 -= withdrawal\n",
    "                print(\"Withdrawal successful! Remaining balance: ₹\", amount1)\n",
    "\n",
    "        elif transaction == 3:\n",
    "            amount = int(input(\"Please enter amount for deposit: \"))\n",
    "            amount1 += amount\n",
    "            print(\"Deposit successful! New balance: ₹\", amount1)\n",
    "\n",
    "        elif transaction == 4:\n",
    "            print(\"Exiting... Thank you for using our service!\")\n",
    "            break  \n",
    "            \n",
    "        else:\n",
    "            print(\"Invalid option! Please try again.\")"
   ]
  },
  {
   "cell_type": "code",
   "execution_count": null,
   "id": "8f53c09d-d8d4-49ed-a472-e6fe8a5467ef",
   "metadata": {},
   "outputs": [],
   "source": []
  }
 ],
 "metadata": {
  "kernelspec": {
   "display_name": "Python 3 (ipykernel)",
   "language": "python",
   "name": "python3"
  },
  "language_info": {
   "codemirror_mode": {
    "name": "ipython",
    "version": 3
   },
   "file_extension": ".py",
   "mimetype": "text/x-python",
   "name": "python",
   "nbconvert_exporter": "python",
   "pygments_lexer": "ipython3",
   "version": "3.11.7"
  }
 },
 "nbformat": 4,
 "nbformat_minor": 5
}
