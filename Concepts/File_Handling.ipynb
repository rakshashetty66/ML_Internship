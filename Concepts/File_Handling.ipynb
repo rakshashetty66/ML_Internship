{
 "cells": [
  {
   "cell_type": "code",
   "execution_count": 2,
   "id": "9d4cdace-253f-43b6-b338-730a6d8b8742",
   "metadata": {},
   "outputs": [
    {
     "ename": "FileExistsError",
     "evalue": "[Errno 17] File exists: 'base.txt'",
     "output_type": "error",
     "traceback": [
      "\u001b[1;31m---------------------------------------------------------------------------\u001b[0m",
      "\u001b[1;31mFileExistsError\u001b[0m                           Traceback (most recent call last)",
      "Cell \u001b[1;32mIn[2], line 11\u001b[0m\n\u001b[0;32m      1\u001b[0m \u001b[38;5;66;03m# File handling\u001b[39;00m\n\u001b[0;32m      2\u001b[0m \n\u001b[0;32m      3\u001b[0m \u001b[38;5;66;03m# 1. open()  - It takes 2 parameters filename and mode\u001b[39;00m\n\u001b[1;32m   (...)\u001b[0m\n\u001b[0;32m      9\u001b[0m \n\u001b[0;32m     10\u001b[0m \u001b[38;5;66;03m# 1. Creating a File:\u001b[39;00m\n\u001b[1;32m---> 11\u001b[0m \u001b[38;5;28mopen\u001b[39m(\u001b[38;5;124m\"\u001b[39m\u001b[38;5;124mbase.txt\u001b[39m\u001b[38;5;124m\"\u001b[39m,\u001b[38;5;124m\"\u001b[39m\u001b[38;5;124mx\u001b[39m\u001b[38;5;124m\"\u001b[39m)\n",
      "File \u001b[1;32m~\\anaconda6\\Lib\\site-packages\\IPython\\core\\interactiveshell.py:310\u001b[0m, in \u001b[0;36m_modified_open\u001b[1;34m(file, *args, **kwargs)\u001b[0m\n\u001b[0;32m    303\u001b[0m \u001b[38;5;28;01mif\u001b[39;00m file \u001b[38;5;129;01min\u001b[39;00m {\u001b[38;5;241m0\u001b[39m, \u001b[38;5;241m1\u001b[39m, \u001b[38;5;241m2\u001b[39m}:\n\u001b[0;32m    304\u001b[0m     \u001b[38;5;28;01mraise\u001b[39;00m \u001b[38;5;167;01mValueError\u001b[39;00m(\n\u001b[0;32m    305\u001b[0m         \u001b[38;5;124mf\u001b[39m\u001b[38;5;124m\"\u001b[39m\u001b[38;5;124mIPython won\u001b[39m\u001b[38;5;124m'\u001b[39m\u001b[38;5;124mt let you open fd=\u001b[39m\u001b[38;5;132;01m{\u001b[39;00mfile\u001b[38;5;132;01m}\u001b[39;00m\u001b[38;5;124m by default \u001b[39m\u001b[38;5;124m\"\u001b[39m\n\u001b[0;32m    306\u001b[0m         \u001b[38;5;124m\"\u001b[39m\u001b[38;5;124mas it is likely to crash IPython. If you know what you are doing, \u001b[39m\u001b[38;5;124m\"\u001b[39m\n\u001b[0;32m    307\u001b[0m         \u001b[38;5;124m\"\u001b[39m\u001b[38;5;124myou can use builtins\u001b[39m\u001b[38;5;124m'\u001b[39m\u001b[38;5;124m open.\u001b[39m\u001b[38;5;124m\"\u001b[39m\n\u001b[0;32m    308\u001b[0m     )\n\u001b[1;32m--> 310\u001b[0m \u001b[38;5;28;01mreturn\u001b[39;00m io_open(file, \u001b[38;5;241m*\u001b[39margs, \u001b[38;5;241m*\u001b[39m\u001b[38;5;241m*\u001b[39mkwargs)\n",
      "\u001b[1;31mFileExistsError\u001b[0m: [Errno 17] File exists: 'base.txt'"
     ]
    }
   ],
   "source": [
    "# File handling\n",
    "\n",
    "# 1. open()  - It takes 2 parameters filename and mode\n",
    "# Modes:\n",
    "# \"r\" - default. Opens a file for reading and error if doesnot exists.\n",
    "# \"a\" - opens a file for appending\n",
    "# \"w\"\n",
    "# \"x\"\n",
    "\n",
    "# 1. Creating a File:\n",
    "open(\"base.txt\",\"x\")"
   ]
  },
  {
   "cell_type": "code",
   "execution_count": 3,
   "id": "29fb70c8-0789-4731-8cdb-ed4abb8af9b7",
   "metadata": {},
   "outputs": [
    {
     "name": "stdout",
     "output_type": "stream",
     "text": [
      "File already Exists\n",
      "File Opeartion is successful\n"
     ]
    }
   ],
   "source": [
    "try:\n",
    "    open(\"base.txt\",\"x\")\n",
    "except:\n",
    "    print(\"File already Exists\")\n",
    "else:\n",
    "    print(\"File is Created\")\n",
    "\n",
    "print(\"File Opeartion is successful\")"
   ]
  },
  {
   "cell_type": "code",
   "execution_count": 4,
   "id": "cd4ff534-2a9f-4eca-bd05-c62a673d0d43",
   "metadata": {},
   "outputs": [],
   "source": [
    "# 2. Writing content to file\n",
    "\n",
    "with open(\"temp.txt\",\"w\") as file:\n",
    "    file.write(\"Hello World Welcome\")"
   ]
  },
  {
   "cell_type": "code",
   "execution_count": 11,
   "id": "ffbcb0da-c5c5-47bf-8998-a8c93ac4cfb5",
   "metadata": {},
   "outputs": [],
   "source": [
    "# 3. appending Content to file\n",
    "\n",
    "with open(\"base.txt\",\"a\") as file:\n",
    "    file.write(\"Hello World Welcome\")\n",
    "    file.write(\"Happy Coding!!\")"
   ]
  },
  {
   "cell_type": "code",
   "execution_count": 12,
   "id": "c8a0f883-85e9-40b5-8de9-5887060563f0",
   "metadata": {},
   "outputs": [
    {
     "name": "stdout",
     "output_type": "stream",
     "text": [
      "Hello World WelcomeHappy Coding!!\n"
     ]
    }
   ],
   "source": [
    "# 4. reading Content to file\n",
    "\n",
    "with open(\"base.txt\",\"r\") as file:\n",
    "    content = file.read()\n",
    "    print(content)"
   ]
  },
  {
   "cell_type": "code",
   "execution_count": null,
   "id": "c448d6b8-4c06-46c6-a51f-e9576fd4bafc",
   "metadata": {},
   "outputs": [],
   "source": [
    "# 5. deleting the os file\n",
    "\n",
    "import os\n",
    "try:\n",
    "    os.remove(\"temp.txt\")\n",
    "\n",
    "except:\n",
    "    print(\"File Not Exists..!!\")\n",
    "\n",
    "else:\n",
    "    print(\"File Deleted Successfully..!!\")"
   ]
  }
 ],
 "metadata": {
  "kernelspec": {
   "display_name": "Python 3 (ipykernel)",
   "language": "python",
   "name": "python3"
  },
  "language_info": {
   "codemirror_mode": {
    "name": "ipython",
    "version": 3
   },
   "file_extension": ".py",
   "mimetype": "text/x-python",
   "name": "python",
   "nbconvert_exporter": "python",
   "pygments_lexer": "ipython3",
   "version": "3.11.7"
  }
 },
 "nbformat": 4,
 "nbformat_minor": 5
}
