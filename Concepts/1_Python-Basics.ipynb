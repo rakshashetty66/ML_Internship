{
 "cells": [
  {
   "cell_type": "code",
   "execution_count": 1,
   "id": "85ad6b32-db6b-4316-b879-325470bcd101",
   "metadata": {},
   "outputs": [
    {
     "name": "stdout",
     "output_type": "stream",
     "text": [
      "Hello World !\n"
     ]
    }
   ],
   "source": [
    "print(\"Hello World !\")"
   ]
  },
  {
   "cell_type": "markdown",
   "id": "1e98609a-13eb-4cca-9b55-37c26822632c",
   "metadata": {},
   "source": [
    "#### Comment"
   ]
  },
  {
   "cell_type": "code",
   "execution_count": 2,
   "id": "ed0a8202-f41d-4216-a85b-ceddea6a1580",
   "metadata": {},
   "outputs": [],
   "source": [
    "# This is the Comment ----> # is used for comment for documentation purpose"
   ]
  },
  {
   "cell_type": "markdown",
   "id": "096c0bfb-b05d-495d-be2f-3623d9c6092d",
   "metadata": {},
   "source": [
    "#### Variables"
   ]
  },
  {
   "cell_type": "code",
   "execution_count": 3,
   "id": "e106f41e-e4b3-4fdf-a6d9-9d4e14eeb8f9",
   "metadata": {},
   "outputs": [
    {
     "name": "stdout",
     "output_type": "stream",
     "text": [
      "2\n",
      "2.2\n",
      "abc\n",
      "True\n"
     ]
    }
   ],
   "source": [
    "# Variable - Is the container to store values\n",
    "\n",
    "a = 2\n",
    "b = 2.2\n",
    "c = \"abc\"\n",
    "d = True\n",
    "print(a)\n",
    "print(b)\n",
    "print(c)\n",
    "print(d)"
   ]
  },
  {
   "cell_type": "markdown",
   "id": "f2cbec12-7adf-49ee-b646-04c29481ad8b",
   "metadata": {},
   "source": [
    "#### Type Function"
   ]
  },
  {
   "cell_type": "code",
   "execution_count": 4,
   "id": "94df5e6e-058c-4de4-b6cb-be8876358e42",
   "metadata": {},
   "outputs": [
    {
     "name": "stdout",
     "output_type": "stream",
     "text": [
      "<class 'int'>\n",
      "<class 'float'>\n",
      "<class 'str'>\n",
      "<class 'bool'>\n"
     ]
    }
   ],
   "source": [
    "# To Check the type of variable we can use type() function\n",
    "\n",
    "a = 2\n",
    "b = 2.2\n",
    "c = \"abc\"\n",
    "d = True\n",
    "print(type(a))\n",
    "print(type(b))\n",
    "print(type(c))\n",
    "print(type(d))"
   ]
  },
  {
   "cell_type": "markdown",
   "id": "cf0b9bed-6395-4bc8-be9c-6ee7393e0d19",
   "metadata": {},
   "source": [
    "#### len function"
   ]
  },
  {
   "cell_type": "code",
   "execution_count": 5,
   "id": "3cfd0192-e2ba-4221-816e-b4c15c1cdff4",
   "metadata": {},
   "outputs": [
    {
     "name": "stdout",
     "output_type": "stream",
     "text": [
      "<class 'int'>\n",
      "<class 'float'>\n",
      "<class 'str'>\n",
      "<class 'bool'>\n"
     ]
    }
   ],
   "source": [
    "# To Check the type of variable we can use type() function\n",
    "\n",
    "a = 2\n",
    "b = 2.2\n",
    "c = \"abc\"\n",
    "d = True\n",
    "print(type(a))\n",
    "print(type(b))\n",
    "print(type(c))\n",
    "print(type(d))"
   ]
  },
  {
   "cell_type": "markdown",
   "id": "d35d8a66-933b-4746-917c-a58cd6274542",
   "metadata": {},
   "source": [
    "#### String"
   ]
  },
  {
   "cell_type": "code",
   "execution_count": 6,
   "id": "73b3edfc-2113-4d40-bd35-89c79ec237f7",
   "metadata": {},
   "outputs": [
    {
     "name": "stdout",
     "output_type": "stream",
     "text": [
      "d\n",
      "d\n",
      "owr\n"
     ]
    }
   ],
   "source": [
    "# Indexing and Slicing\n",
    "# Indexing - To take single value/character indexing is used\n",
    "# Slicing - To take range of value/character slicing is used\n",
    "\n",
    "# Indexing \n",
    "a = \"hello world welcome\"\n",
    "print(a[10])\n",
    "print(a[-9])\n",
    "print(a[4:9:2])"
   ]
  },
  {
   "cell_type": "code",
   "execution_count": 7,
   "id": "7617abc6-5cff-4bcb-8317-606c318b07f3",
   "metadata": {},
   "outputs": [
    {
     "name": "stdout",
     "output_type": "stream",
     "text": [
      "hello \n",
      "e world\n",
      "hlowlo\n",
      "dlrow emoclew olleh\n",
      "olleh\n",
      "hello welcome worl\n",
      " olle\n"
     ]
    }
   ],
   "source": [
    "# Slicing \n",
    "a = \"hello welcome world\"\n",
    "\n",
    "print(a[0:6])      \n",
    "print(a[12:])     \n",
    "print(a[0:12:2]) \n",
    "print(a[::-1])     \n",
    "print(a[-15:-20:-1])  \n",
    "print(a[:-1])      \n",
    "print(a[-14:-19:-1]) "
   ]
  },
  {
   "cell_type": "code",
   "execution_count": 8,
   "id": "8ccdeba7-d6a8-4287-8e43-444ed4dda413",
   "metadata": {},
   "outputs": [
    {
     "name": "stdout",
     "output_type": "stream",
     "text": [
      "True\n",
      "False\n"
     ]
    }
   ],
   "source": [
    "# in usage\n",
    "a = \"Best thing in life are for free!\"\n",
    "print(\"life\" in a) \n",
    "print(\"hello\" in a) "
   ]
  },
  {
   "cell_type": "markdown",
   "id": "230c8dd5-c8a0-4365-9514-18bcaa37ff5b",
   "metadata": {},
   "source": [
    "#### Built in functions"
   ]
  },
  {
   "cell_type": "code",
   "execution_count": 9,
   "id": "b88e4311-582e-4c32-9ca6-4d7cd33dccd6",
   "metadata": {},
   "outputs": [
    {
     "name": "stdout",
     "output_type": "stream",
     "text": [
      "WELCOME\n",
      "welcome\n",
      "Welcome\n",
      "Welcome\n",
      "WELCOME\n",
      "True\n",
      "True\n",
      "2\n",
      "2\n",
      "HELcome\n",
      "True\n",
      "False\n",
      "True\n",
      "elcome\n",
      "welcom\n",
      "lcom\n",
      "7\n",
      "emoclew\n"
     ]
    }
   ],
   "source": [
    "a=\"welcome\"\n",
    "\n",
    "print(a.upper())     # \"WELCOME\" - Converts to uppercase  \n",
    "print(a.lower())     # \"welcome\" - Converts to lowercase  \n",
    "print(a.title())     # \"Welcome\" - Capitalizes the first letter of each word  \n",
    "print(a.capitalize()) # \"Welcome\" - Capitalizes only the first letter  \n",
    "print(a.swapcase())  # \"WELCOME\" - Swaps uppercase to lowercase and vice versa  \n",
    "\n",
    "print(a.startswith(\"w\"))  # True - Checks if the string starts with \"w\"  \n",
    "print(a.endswith(\"e\"))    # True - Checks if the string ends with \"e\"  \n",
    "print(a.find(\"l\"))        # 2 - Returns the index of the first occurrence of \"l\"  \n",
    "print(a.count(\"e\"))       # 2 - Counts occurrences of \"e\"  \n",
    "\n",
    "print(a.replace(\"wel\", \"HEL\"))  # \"HELcome\" - Replaces \"wel\" with \"HEL\"  \n",
    "print(a.isalpha())       # True - Checks if all characters are alphabets  \n",
    "print(a.isdigit())       # False - Checks if the string contains only digits  \n",
    "print(a.isalnum())       # True - Checks if the string contains only letters and numbers  \n",
    "\n",
    "print(a.lstrip(\"w\"))  # \"elcome\" - Removes leading \"w\"  \n",
    "print(a.rstrip(\"e\"))  # \"welcom\" - Removes trailing \"e\"  \n",
    "print(a.strip(\"we\"))  # \"lcome\" - Removes leading \"w\" and trailing \"e\"  \n",
    "\n",
    "print(len(a))  # 7 - Returns length of the string  \n",
    "print(a[::-1]) # \"emoclew\" - Reverses the string  "
   ]
  },
  {
   "cell_type": "code",
   "execution_count": 10,
   "id": "33752da6-8aef-42c6-8c53-b23ebcea3dd9",
   "metadata": {},
   "outputs": [
    {
     "name": "stdout",
     "output_type": "stream",
     "text": [
      "Hi Welcome\n",
      "6\n",
      "4\n",
      "6\n",
      "4\n",
      "2\n",
      "1\n",
      "True\n",
      "True\n",
      "['apple', 'banana', 'grape']\n",
      "Hello Welcome World\n"
     ]
    }
   ],
   "source": [
    "a = \"Hello Welcome\"\n",
    "\n",
    "print(a.replace(\"Hello\",\"Hi\"))\n",
    "\n",
    "print(a.find(\"Welcome\"))   \n",
    "print(a.find(\"o\"))    \n",
    "\n",
    "print(a.index(\"Welcome\"))  \n",
    "print(a.index(\"o\"))        \n",
    "\n",
    "print(a.count(\"o\"))      \n",
    "print(a.count(\"Hello\"))  \n",
    "\n",
    "print(a.startswith(\"Hello\"))  \n",
    "print(a.endswith(\"me\"))       \n",
    "\n",
    "c = \"apple,banana,grape\"\n",
    "print(c.split(\",\"))  \n",
    "\n",
    "words = [\"Hello\", \"Welcome\", \"World\"]\n",
    "print(\" \".join(words))  "
   ]
  },
  {
   "cell_type": "markdown",
   "id": "41f12aef-38e7-48db-acc8-e1916f5f01ab",
   "metadata": {},
   "source": [
    "#### Derived Datatypes"
   ]
  },
  {
   "cell_type": "markdown",
   "id": "85fe9b3a-f66e-484d-a62d-c24cb8f52714",
   "metadata": {},
   "source": [
    "#### 1. List"
   ]
  },
  {
   "cell_type": "code",
   "execution_count": 11,
   "id": "7c0c73ad-11f9-4383-8ebc-4a04438eacb7",
   "metadata": {},
   "outputs": [
    {
     "name": "stdout",
     "output_type": "stream",
     "text": [
      "['apple', 'banana', 'cherry', 'apple']\n",
      "banana\n",
      "['apple', 'mango', 'cherry', 'apple']\n",
      "['apple', 'grape', 'mango', 'cherry', 'apple', 'orange', 'Pineapple', 'Mango']\n",
      "grape\n",
      "mango\n",
      "apple\n",
      "orange\n",
      "Pineapple\n",
      "Mango\n",
      "[0, 1, 4, 9, 16]\n"
     ]
    }
   ],
   "source": [
    "# 1. List ----> Collection of elements, ordered, mutable, can contain duplicates\n",
    "# Creating a list\n",
    "fruits = [\"apple\", \"banana\", \"cherry\", \"apple\"]\n",
    "print(fruits)  \n",
    "\n",
    "# Accessing elements\n",
    "print(fruits[1]) \n",
    "\n",
    "# Modifying elements\n",
    "fruits[1] = \"mango\"\n",
    "print(fruits)  \n",
    "\n",
    "# Adding elements\n",
    "fruits.append(\"orange\")  \n",
    "fruits.insert(1, \"grape\") \n",
    "fruits.extend([\"Pineapple\",\"Mango\"])\n",
    "print(fruits)\n",
    "\n",
    "# Removing elements\n",
    "fruits.remove(\"apple\")  \n",
    "fruits.pop(2)  \n",
    "\n",
    "# Iterating\n",
    "for fruit in fruits:\n",
    "    print(fruit)\n",
    "\n",
    "# List Comprehension\n",
    "squared = [x**2 for x in range(5)]\n",
    "print(squared) "
   ]
  },
  {
   "cell_type": "markdown",
   "id": "3ed09fb2-bb42-4a31-a211-9ac62e3fcdc3",
   "metadata": {},
   "source": [
    "#### 2. Tuple"
   ]
  },
  {
   "cell_type": "code",
   "execution_count": 12,
   "id": "f1e8c0c2-ce2a-4ca7-b0a6-8097e0011bf8",
   "metadata": {},
   "outputs": [
    {
     "name": "stdout",
     "output_type": "stream",
     "text": [
      "(1, 2, 3, 4, 5)\n",
      "3\n",
      "<class 'tuple'>\n",
      "10 20 30\n",
      "[1, 2, 3, 4, 5]\n"
     ]
    }
   ],
   "source": [
    "#2. Tuple - Ordered, Immutable, Allows Duplicates \n",
    "# Creating a tuple\n",
    "numbers = (1, 2, 3, 4, 5)\n",
    "print(numbers)  \n",
    "\n",
    "# Accessing elements\n",
    "print(numbers[2]) \n",
    "\n",
    "# Tuple with a single element (comma needed!)\n",
    "single_tuple = (10,)\n",
    "print(type(single_tuple))  \n",
    "\n",
    "# Tuple unpacking\n",
    "a, b, c = (10, 20, 30)\n",
    "print(a, b, c)  \n",
    "\n",
    "# Converting Tuple to List\n",
    "tuple_to_list = list(numbers)\n",
    "print(tuple_to_list) "
   ]
  },
  {
   "cell_type": "markdown",
   "id": "868a9276-3371-4364-a129-d65331d217e7",
   "metadata": {},
   "source": [
    "#### 3. Set"
   ]
  },
  {
   "cell_type": "code",
   "execution_count": 13,
   "id": "0d6797bb-7065-4f89-b166-640cf5f0bbf6",
   "metadata": {
    "jp-MarkdownHeadingCollapsed": true
   },
   "outputs": [
    {
     "name": "stdout",
     "output_type": "stream",
     "text": [
      "{1, 2, 3, 4, 5}\n",
      "{1, 2, 3, 4, 5, 6}\n",
      "{1, 2, 3, 4, 5}\n",
      "{3}\n",
      "{1, 2}\n"
     ]
    }
   ],
   "source": [
    "# 3. Set - Unordered, Mutable, No Duplicates\n",
    "# Creating a set\n",
    "my_set = {1, 2, 3, 4, 5, 3, 2}\n",
    "print(my_set)  \n",
    "\n",
    "# Adding elements\n",
    "my_set.add(6)\n",
    "print(my_set)  \n",
    "\n",
    "# Removing elements\n",
    "my_set.remove(3)  \n",
    "my_set.discard(10)  \n",
    "\n",
    "# Set operations\n",
    "set1 = {1, 2, 3}\n",
    "set2 = {3, 4, 5}\n",
    "\n",
    "print(set1.union(set2))  \n",
    "print(set1.intersection(set2))  \n",
    "print(set1.difference(set2))  "
   ]
  },
  {
   "cell_type": "code",
   "execution_count": 14,
   "id": "493795fc-cac6-44bf-a3f5-5f1d4298bb89",
   "metadata": {},
   "outputs": [],
   "source": [
    "#### 4. Dictionary"
   ]
  },
  {
   "cell_type": "code",
   "execution_count": null,
   "id": "7d37811c-1aad-47a9-8a42-8fad591b964d",
   "metadata": {},
   "outputs": [],
   "source": []
  },
  {
   "cell_type": "markdown",
   "id": "fa09ce34-12ed-47e6-a577-4c4359cdd622",
   "metadata": {},
   "source": [
    "#### 4. Dictionary"
   ]
  },
  {
   "cell_type": "code",
   "execution_count": 15,
   "id": "dd6b597f-5188-46c4-8ae1-086215b11d1c",
   "metadata": {},
   "outputs": [
    {
     "name": "stdout",
     "output_type": "stream",
     "text": [
      "Raksha\n",
      "20\n",
      "{'name': 'Raksha', 'age': 21, 'course': 'AI/ML', 'grade': 'A'}\n",
      "name: Raksha\n",
      "age: 21\n",
      "True\n",
      "{0: 0, 1: 1, 2: 4, 3: 9, 4: 16}\n"
     ]
    }
   ],
   "source": [
    "# 4. Key-Value Pairs, Ordered in Python 3.7+, Mutable\n",
    "# Creating a dictionary\n",
    "student = {\n",
    "    \"name\": \"Raksha\",\n",
    "    \"age\": 20,\n",
    "    \"course\": \"AI/ML\"\n",
    "}\n",
    "\n",
    "# Accessing values\n",
    "print(student[\"name\"])  \n",
    "print(student.get(\"age\")) \n",
    "\n",
    "# Adding & modifying elements\n",
    "student[\"grade\"] = \"A\"\n",
    "student[\"age\"] = 21\n",
    "print(student)\n",
    "\n",
    "# Removing elements\n",
    "del student[\"grade\"]\n",
    "student.pop(\"course\")\n",
    "\n",
    "# Iterating over a dictionary\n",
    "for key, value in student.items():\n",
    "    print(f\"{key}: {value}\")\n",
    "\n",
    "# Checking keys\n",
    "print(\"name\" in student)  \n",
    "\n",
    "# Dictionary Comprehension\n",
    "squared_dict = {x: x**2 for x in range(5)}\n",
    "print(squared_dict)  "
   ]
  },
  {
   "cell_type": "markdown",
   "id": "2c08bc7e-dbbc-4956-b92d-8e39754ecf76",
   "metadata": {},
   "source": [
    "#### Type Casting"
   ]
  },
  {
   "cell_type": "code",
   "execution_count": 16,
   "id": "5dab8022-8323-47ad-acb1-09ca35d650e9",
   "metadata": {},
   "outputs": [
    {
     "name": "stdout",
     "output_type": "stream",
     "text": [
      "30\n",
      "4\n",
      "2123\n",
      "<class 'int'>\n",
      "<class 'int'>\n",
      "<class 'str'>\n"
     ]
    }
   ],
   "source": [
    "# Converting one data type to another is called as **casting**\n",
    "# Implicit - Conversion taken by the interpreter\n",
    "# Example:\n",
    "a=10\n",
    "b=20\n",
    "c=a+b \n",
    "print(c)\n",
    "\n",
    "# Explicit - Conversion made by the programmer \n",
    "# Here we can use int(),float(),str()\n",
    "# Example1:\n",
    "y = int(2.8)     # It will become 2\n",
    "x = int(\"2\")     # It will convert string 2 to integer 2\n",
    "z = x+y\n",
    "print(z)\n",
    "\n",
    "# Example2:\n",
    "a=str(2)     \n",
    "b=\"123\"\n",
    "c=a+b\n",
    "print(a+b)\n",
    "\n",
    "# Example3:\n",
    "a=int(4.5)       # It will become 4\n",
    "print(type(a))\n",
    "\n",
    "# Example4:\n",
    "a=int(\"4\")       # It will become integer 4\n",
    "print(type(a))\n",
    "\n",
    "# Example3:\n",
    "a=str(\"4\")       # It will become string 4\n",
    "print(type(a))"
   ]
  },
  {
   "cell_type": "markdown",
   "id": "da9f984a-ce2d-44de-9354-00f256dd109a",
   "metadata": {},
   "source": [
    "#### Input-Output"
   ]
  },
  {
   "cell_type": "code",
   "execution_count": null,
   "id": "3d262329-0896-4818-a0b5-18f9a9d38578",
   "metadata": {},
   "outputs": [],
   "source": [
    "# Input - It is used to take any value from the user.\n",
    "# By default value for the input is taken as string\n",
    "# If we want float or integer we can convert using int(),float()\n",
    "\n",
    "a = input(\"Enter a value for a:\")\n",
    "print(type(a))\n",
    "\n",
    "a = int(input(\"Enter a value for a:\"))\n",
    "print(type(a))\n",
    "\n",
    "a = float(input(\"Enter a value for a:\"))\n",
    "print(type(a))"
   ]
  },
  {
   "cell_type": "markdown",
   "id": "b8151f5c-23a6-405f-95a9-0962c796abd2",
   "metadata": {},
   "source": [
    "##### Control statements "
   ]
  },
  {
   "cell_type": "code",
   "execution_count": null,
   "id": "7d83f235-4f08-4798-95c6-6ed8053f3126",
   "metadata": {},
   "outputs": [],
   "source": [
    "# Control statements - It is used to control flow of execution of the program\n",
    "# Under Control statements there are 2 types:"
   ]
  },
  {
   "cell_type": "markdown",
   "id": "1a9be131-08dd-478f-b5c9-a1601bbedf7d",
   "metadata": {},
   "source": [
    "#### 1. Conditional Statements"
   ]
  },
  {
   "cell_type": "code",
   "execution_count": null,
   "id": "a2a7f085-4394-49e7-a9b8-e865d723b378",
   "metadata": {},
   "outputs": [],
   "source": [
    "# 1. Conditional Statements - Based on condition will be executing some task - if, elif, else\n",
    "\n",
    "# if:               It is used for 1 condition\n",
    "print(\"--------------if--------------\")\n",
    "a = int(input(\"Enter a value for a:\"))\n",
    "if a>10:\n",
    "    print(\"a is greater than 10\")\n",
    "\n",
    "#if-else:           It is used for more condition\n",
    "print(\"-----------if-else-----------\")\n",
    "a = int(input(\"Enter a value for a:\"))\n",
    "if a>10:\n",
    "    print(\"a is greater than 10\")\n",
    "else:\n",
    "    print(\"a is less than 10\")\n",
    "\n",
    "# elif               It is used for more condition\n",
    "print(\"-------------elif------------\")         \n",
    "a = int(input(\"Enter a value for a:\"))\n",
    "if 0<a<10:\n",
    "    print(\"Hi\")\n",
    "elif 10<a<20:\n",
    "    print(\"Hello\")\n",
    "elif 20<a<30:\n",
    "    print(\"Ha\")\n",
    "else:\n",
    "    print(\"Bye\")\n",
    "\n",
    "# nested-if\n",
    "print(\"-------------nestedif------------\")         \n",
    "a = int(input(\"Enter a value for a:\"))\n",
    "b = int(input(\"Enter a value for b: \"))\n",
    "c = int(input(\"Enter a value for c: \"))\n",
    "\n",
    "if a>b:\n",
    "    if a>c:\n",
    "        print(\"a is greater\")\n",
    "    else:\n",
    "        print(\"c is greater\")\n",
    "\n",
    "elif b>a:\n",
    "    if b>c:\n",
    "        print(\"b is greater\")\n",
    "    else:\n",
    "        print(\"c is greater\")"
   ]
  },
  {
   "cell_type": "markdown",
   "id": "3dae7af1-d311-42fc-9019-b6f53bdc05cc",
   "metadata": {},
   "source": [
    "#### Find greatest among 3 numbers - using logical operators"
   ]
  },
  {
   "cell_type": "code",
   "execution_count": null,
   "id": "72c1fe8b-e721-44a7-852f-4f5eb2f405ff",
   "metadata": {},
   "outputs": [],
   "source": [
    "a = int(input(\"Enter a value for a: \"))\n",
    "b = int(input(\"Enter a value for b: \"))\n",
    "c = int(input(\"Enter a value for c: \"))\n",
    "\n",
    "if a>b and a>c:\n",
    "    print(f\"{a} is greater\")\n",
    "elif b>a and b>c:\n",
    "    print(f\" {b} is greater\")\n",
    "else:\n",
    "    print(f\"{c} is greater\")"
   ]
  },
  {
   "cell_type": "markdown",
   "id": "b1554240-705f-4a43-bb41-62db4e428fb6",
   "metadata": {},
   "source": [
    "#### To fing greatest among 3 numbers - using nestedif"
   ]
  },
  {
   "cell_type": "code",
   "execution_count": null,
   "id": "22802324-2314-4549-8378-a5eee79581c5",
   "metadata": {},
   "outputs": [],
   "source": [
    "a = int(input(\"Enter a value for a: \"))\n",
    "b = int(input(\"Enter a value for b: \"))\n",
    "c = int(input(\"Enter a value for c: \"))\n",
    "\n",
    "if a>b:\n",
    "    if a>c:\n",
    "        print(\"a is greater\")\n",
    "    else:\n",
    "        print(\"c is greater\")\n",
    "\n",
    "elif b>a:\n",
    "    if b>c:\n",
    "        print(\"b is greater\")\n",
    "    else:\n",
    "        print(\"c is greater\")"
   ]
  },
  {
   "cell_type": "markdown",
   "id": "9dcbaff7-f987-4427-b37b-c23d3ec253c2",
   "metadata": {},
   "source": [
    "#### 2. Looping statements "
   ]
  },
  {
   "cell_type": "code",
   "execution_count": null,
   "id": "719acd27-12c4-4454-9dbc-03fd88d99dcd",
   "metadata": {},
   "outputs": [],
   "source": [
    "# 2. Looping statements - To execute a particular statement repeatedly based on condition\n",
    "\n",
    "# 1. for loop\n",
    "# Syntax:\n",
    "\n",
    "# initialization\n",
    "# while condition:\n",
    "#    body of the statement\n",
    "#   increment decrement initial values"
   ]
  },
  {
   "cell_type": "markdown",
   "id": "e8900b25-a23c-484b-8f65-7bbe7995ddf7",
   "metadata": {},
   "source": [
    "#### Example : To print value from 1 to 10"
   ]
  },
  {
   "cell_type": "code",
   "execution_count": null,
   "id": "544558d3-cc09-4576-8d07-2ba3844848db",
   "metadata": {},
   "outputs": [],
   "source": [
    "i=1\n",
    "while i<=10:\n",
    "    print(i)\n",
    "    i+=1"
   ]
  },
  {
   "cell_type": "markdown",
   "id": "5ee17f59-2b0e-4bef-979d-a655f8079f8d",
   "metadata": {},
   "source": [
    "#### Example : To print value from 10 to 1"
   ]
  },
  {
   "cell_type": "code",
   "execution_count": null,
   "id": "cb58fd13-a51a-426b-a5e6-ec9206327190",
   "metadata": {},
   "outputs": [],
   "source": [
    "i=10\n",
    "while i>=1:\n",
    "    print(i)\n",
    "    i-=1"
   ]
  },
  {
   "cell_type": "code",
   "execution_count": null,
   "id": "be41b705-55fb-48ef-9a9c-2ec6275707d5",
   "metadata": {},
   "outputs": [],
   "source": [
    "# Break statement inside while loop \n",
    "# Printing values from 1 to 3\n",
    "a = 1\n",
    "while a<=7:\n",
    "    print(a)\n",
    "    if a==3:\n",
    "        break\n",
    "    a+=1"
   ]
  },
  {
   "cell_type": "markdown",
   "id": "a8ccd5f8-3a8f-4f37-84c0-c3bb9ac32b9c",
   "metadata": {},
   "source": [
    "#### Another Example"
   ]
  },
  {
   "cell_type": "code",
   "execution_count": null,
   "id": "730de753-e3de-42df-8bb0-82f40a710952",
   "metadata": {},
   "outputs": [],
   "source": [
    "a = 1\n",
    "while a<=7:\n",
    "    print(a)\n",
    "    if a==5:\n",
    "        break\n",
    "    a+=1"
   ]
  },
  {
   "cell_type": "code",
   "execution_count": null,
   "id": "4f73c9a5-153f-4675-ad82-ed0bcc0d9925",
   "metadata": {},
   "outputs": [],
   "source": [
    "# Continue statement inside while loop\n",
    "\n",
    "a = 0\n",
    "while a<=9:\n",
    "    a+=1\n",
    "    if a==3:\n",
    "        continue\n",
    "    else:\n",
    "        print(a)"
   ]
  },
  {
   "cell_type": "markdown",
   "id": "7576da76-1577-454a-b5fa-0cad44fb9232",
   "metadata": {},
   "source": [
    "#### for loop"
   ]
  },
  {
   "cell_type": "code",
   "execution_count": null,
   "id": "ba47189d-2554-4351-841c-8628e7232db9",
   "metadata": {},
   "outputs": [],
   "source": [
    "# Use for loop to traverse to the collection like set, tuple, string,dictionary\n",
    "# Example 1:\n",
    "string=\"abc\"\n",
    "for i in string:\n",
    "    print(i)"
   ]
  },
  {
   "cell_type": "code",
   "execution_count": null,
   "id": "605ec3bc-8fe8-437d-97f5-37e58a360ced",
   "metadata": {},
   "outputs": [],
   "source": [
    "# Example 2:\n",
    "expense=[2000,3400,1200,500,300]\n",
    "count=0\n",
    "for i in expense:\n",
    "    count+=i\n",
    "print(count)"
   ]
  },
  {
   "cell_type": "code",
   "execution_count": null,
   "id": "addb2a90-e185-4f7f-9195-883d8799def8",
   "metadata": {},
   "outputs": [],
   "source": [
    "# We can also implement for loop using range() function \n",
    "# Syntax: range(start,end,step)\n",
    "\n",
    "# To print value from 1 to 10\n",
    "for i in range(1,11):\n",
    "    print(i)"
   ]
  },
  {
   "cell_type": "code",
   "execution_count": null,
   "id": "978bb4f6-a4ff-4d5f-b349-78bdd8aec89e",
   "metadata": {},
   "outputs": [],
   "source": [
    "# Using range function\n",
    "expense=[2000,3400,1200,500,300]\n",
    "count=0\n",
    "for i in range(0,len(expense)):\n",
    "    count+=expense[i]\n",
    "print(count)"
   ]
  },
  {
   "cell_type": "code",
   "execution_count": null,
   "id": "f27a7ded-ff39-4775-909b-48c4ee8b084a",
   "metadata": {},
   "outputs": [],
   "source": [
    "# Print all even numbers from 30 to 78\n",
    "\n",
    "for i in range(30,79,2):\n",
    "    print(i)"
   ]
  },
  {
   "cell_type": "code",
   "execution_count": null,
   "id": "21976029-96e7-4ebb-abd1-caa85748b531",
   "metadata": {},
   "outputs": [],
   "source": [
    "# Print all even numbers 40 to 100 which is divisible by 4 in reverse order\n",
    "\n",
    "# Method 1:\n",
    "for i in range(100,39,-1):\n",
    "    if i%4==0:\n",
    "        print(i)\n",
    "\n",
    "# Method 2:\n",
    "for i in range(100,39,-4):\n",
    "        print(i)"
   ]
  },
  {
   "cell_type": "code",
   "execution_count": null,
   "id": "1be6f316-cd51-49e6-af52-95bc4f92a6fb",
   "metadata": {},
   "outputs": [],
   "source": [
    "# Print all even numbers 40 to 100 which is divisible by 4 in reverse order\n",
    "\n",
    "# Method 1:\n",
    "for i in range(100,39,-1):\n",
    "    if i%4==0:\n",
    "        print(i)\n",
    "\n",
    "# Method 2:\n",
    "for i in range(100,39,-4):\n",
    "        print(i)"
   ]
  },
  {
   "cell_type": "code",
   "execution_count": null,
   "id": "53d3b2a1-0f8c-468a-b35c-5d93b394d2f8",
   "metadata": {},
   "outputs": [],
   "source": [
    "# Print all even numbers 40 to 100 which is divisible by 4 in reverse order\n",
    "\n",
    "# Method 1:\n",
    "for i in range(100,39,-1):\n",
    "    if i%4==0:\n",
    "        print(i)\n",
    "\n",
    "# Method 2:\n",
    "for i in range(100,39,-4):\n",
    "        print(i)"
   ]
  },
  {
   "cell_type": "code",
   "execution_count": null,
   "id": "8b8c4a4d-5bf2-462e-81af-9264aab0f7cf",
   "metadata": {},
   "outputs": [],
   "source": [
    "# Functions\n",
    "\n",
    "# Block of code - Set of statements which is executed only when it is called\n",
    "# It includes \n",
    "# 1. Defining function (It can be done/written only ones)\n",
    "# 2. Calling function (It can be done/written many times)\n",
    "\n",
    "def my_function():\n",
    "    print(\"Hello from My Function\")\n",
    "my_function()\n",
    "\n",
    "def add_number(a,b):\n",
    "    c = a+b\n",
    "    return c\n",
    "print(add_number(6,4))\n",
    "print(add_number(10,20))"
   ]
  },
  {
   "cell_type": "code",
   "execution_count": null,
   "id": "9022128a-841b-446c-9faf-9001424818d9",
   "metadata": {},
   "outputs": [],
   "source": [
    "# Function for To print given number is odd or even\n",
    "\n",
    "def odd_even(a):\n",
    "    if a%2==0:\n",
    "        return \"Even\"\n",
    "    else:\n",
    "        return \"Odd\"\n",
    "print(odd_even(4))\n",
    "print(odd_even(5))"
   ]
  },
  {
   "cell_type": "code",
   "execution_count": null,
   "id": "eada3905-5807-4cca-9cf2-c52d120cde79",
   "metadata": {},
   "outputs": [],
   "source": [
    "# Exception Handling - Exception / Error arises during running of the program due to incorrect implementation of logic\n",
    "\n",
    "# try - This block lets you test a block of code for errors\n",
    "# except - This block lets you handle the error\n",
    "# finally - Regardless of error it print\n",
    "\n",
    "a=10\n",
    "b=0\n",
    "c=(a/b)\n",
    "print(c)"
   ]
  },
  {
   "cell_type": "code",
   "execution_count": null,
   "id": "0b335250-9f5f-4c5d-90ef-f894386f59f9",
   "metadata": {},
   "outputs": [],
   "source": [
    "a=10\n",
    "b=0\n",
    "try:\n",
    "    c=(a/b)\n",
    "    print(c)\n",
    "except:\n",
    "    print(\"Error Occured: Zero Division Error\")\n",
    "else:\n",
    "    print(\"No Error Occured\")\n",
    "finally:\n",
    "    print(\"Exception Handling Success\")"
   ]
  },
  {
   "cell_type": "code",
   "execution_count": null,
   "id": "20d3ecec-3116-4582-b255-79fa958db8e5",
   "metadata": {},
   "outputs": [],
   "source": [
    "# File handling\n",
    "\n",
    "# 1. open()  - It takes 2 parameters filename and mode\n",
    "# Modes:\n",
    "# \"r\" - default. Opens a file for reading and error if doesnot exists.\n",
    "# \"a\" - opens a file for appending\n",
    "# \"w\"\n",
    "# \"x\"\n",
    "\n",
    "# 1. Creating a File:\n",
    "open(\"base.txt\",\"x\")"
   ]
  },
  {
   "cell_type": "code",
   "execution_count": null,
   "id": "9bdc2a0f-203e-4134-87b5-bdd9c3c5010b",
   "metadata": {},
   "outputs": [],
   "source": []
  }
 ],
 "metadata": {
  "kernelspec": {
   "display_name": "Python 3 (ipykernel)",
   "language": "python",
   "name": "python3"
  },
  "language_info": {
   "codemirror_mode": {
    "name": "ipython",
    "version": 3
   },
   "file_extension": ".py",
   "mimetype": "text/x-python",
   "name": "python",
   "nbconvert_exporter": "python",
   "pygments_lexer": "ipython3",
   "version": "3.11.7"
  }
 },
 "nbformat": 4,
 "nbformat_minor": 5
}
