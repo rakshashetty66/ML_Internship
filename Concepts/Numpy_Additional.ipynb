{
 "cells": [
  {
   "cell_type": "code",
   "execution_count": 1,
   "id": "0770a04d-42f8-49c5-b480-079b663d4a6d",
   "metadata": {},
   "outputs": [
    {
     "name": "stdout",
     "output_type": "stream",
     "text": [
      "[ 1.          1.18367347  1.36734694  1.55102041  1.73469388  1.91836735\n",
      "  2.10204082  2.28571429  2.46938776  2.65306122  2.83673469  3.02040816\n",
      "  3.20408163  3.3877551   3.57142857  3.75510204  3.93877551  4.12244898\n",
      "  4.30612245  4.48979592  4.67346939  4.85714286  5.04081633  5.2244898\n",
      "  5.40816327  5.59183673  5.7755102   5.95918367  6.14285714  6.32653061\n",
      "  6.51020408  6.69387755  6.87755102  7.06122449  7.24489796  7.42857143\n",
      "  7.6122449   7.79591837  7.97959184  8.16326531  8.34693878  8.53061224\n",
      "  8.71428571  8.89795918  9.08163265  9.26530612  9.44897959  9.63265306\n",
      "  9.81632653 10.        ]\n",
      "1\n"
     ]
    }
   ],
   "source": [
    "# LINSPACE - Generate specified number of elements from the given\n",
    "\n",
    "\n",
    "import numpy as np\n",
    "\n",
    "# linspace(start,end,gen)\n",
    "l=np.linspace(1,10,50)\n",
    "print(l)\n",
    "print(l.ndim)"
   ]
  },
  {
   "cell_type": "code",
   "execution_count": 9,
   "id": "f3159f59-2f58-437f-b17f-ae5ef3be90c8",
   "metadata": {},
   "outputs": [
    {
     "name": "stdout",
     "output_type": "stream",
     "text": [
      "[20 22 24 26 28 30 32 34 36 38]\n",
      "[20 30 40 50 60 70 80 90]\n",
      "[ 0  1  2  3  4  5  6  7  8  9 10 11 12 13 14 15 16 17 18 19 20 21 22 23\n",
      " 24 25 26 27 28 29 30 31 32 33 34 35 36 37 38 39 40 41 42 43 44 45 46 47\n",
      " 48 49 50 51 52 53 54 55 56 57 58 59 60 61 62 63 64 65 66 67 68 69 70 71\n",
      " 72 73 74 75 76 77 78 79 80 81 82 83 84 85 86 87 88 89 90 91 92 93 94 95\n",
      " 96 97 98 99]\n",
      "[20 21 22 23 24 25 26 27 28 29 30 31 32 33 34]\n",
      "[100  98  96  94  92  90  88  86  84  82  80  78  76  74  72  70  68  66\n",
      "  64  62  60  58  56  54  52  50]\n"
     ]
    }
   ],
   "source": [
    "# arange(start,end,step) \n",
    "a = np.arange(20,40,2)\n",
    "print(a)\n",
    "\n",
    "aa = np.arange(20,100,10)\n",
    "print(aa)\n",
    "\n",
    "aaa = np.arange(100)\n",
    "print(aaa)\n",
    "\n",
    "aaaa = np.arange(20,35)\n",
    "print(aaaa)\n",
    "\n",
    "aaaa=np.arange(100,49,-2)\n",
    "print(aaaa)"
   ]
  },
  {
   "cell_type": "code",
   "execution_count": 13,
   "id": "0c429b85-a157-4415-895f-23fe440d333d",
   "metadata": {},
   "outputs": [
    {
     "name": "stdout",
     "output_type": "stream",
     "text": [
      "[[ 1  2]\n",
      " [ 3  4]\n",
      " [ 5  6]\n",
      " [ 7  8]\n",
      " [ 9 10]]\n",
      "[[ 1  2  3  4  5  6  7  8  9 10]]\n"
     ]
    }
   ],
   "source": [
    "# reshape - It is used when we have to convert 1 dimensional to another\n",
    "# Syntax: reshape(shape)\n",
    "import numpy as np\n",
    "\n",
    "array=np.array([[1,2,3,4,5],[6,7,8,9,10]])\n",
    "print(array.reshape(5,2))\n",
    "\n",
    "array1=np.arange(1,11)\n",
    "# Elements : 10 {1*10,10*1,2*5,5*2}\n",
    "print(array1.reshape(1,10))"
   ]
  },
  {
   "cell_type": "code",
   "execution_count": 18,
   "id": "4beb88df-7eae-4a47-bb70-d309de503d00",
   "metadata": {},
   "outputs": [
    {
     "name": "stdout",
     "output_type": "stream",
     "text": [
      "[[36 37 38 39]\n",
      " [40 41 42 43]\n",
      " [44 45 46 47]\n",
      " [48 49 50 51]]\n",
      "[[41 42 43 44 45 46 47 48]]\n",
      "[[41]\n",
      " [42]\n",
      " [43]\n",
      " [44]\n",
      " [45]\n",
      " [46]\n",
      " [47]\n",
      " [48]]\n",
      "[[41 42 43 44]\n",
      " [45 46 47 48]]\n",
      "[[41 42]\n",
      " [43 44]\n",
      " [45 46]\n",
      " [47 48]]\n",
      "[41 42 43 44 45 46 47 48]\n"
     ]
    }
   ],
   "source": [
    "a=np.arange(36,52)\n",
    "print(a.reshape(4,4))\n",
    "\n",
    "# a =np.arange(36,52).reshape(4,4)              # print(a)\n",
    "\n",
    "# Create an array having element from 41 to 49 and give different shapes\n",
    "a = np.arange(41,49)\n",
    "print(a.reshape(1,8))\n",
    "print(a.reshape(8,1))\n",
    "print(a.reshape(2,4))\n",
    "print(a.reshape(4,2))\n",
    "\n",
    "# shape to convert 1D to 2D\n",
    "# ravel to convert 2D to 1D\n",
    "# ravel()\n",
    "b = a.ravel()\n",
    "print(b)"
   ]
  },
  {
   "cell_type": "markdown",
   "id": "ee124615-2e9e-45af-be9c-95b9f9cdbe82",
   "metadata": {},
   "source": [
    "## Mathematical Operations"
   ]
  },
  {
   "cell_type": "code",
   "execution_count": 20,
   "id": "5c146d14-d5ee-415d-8f7b-423e904606b3",
   "metadata": {},
   "outputs": [
    {
     "name": "stdout",
     "output_type": "stream",
     "text": [
      "[[12 14 16 18 20]\n",
      " [22 24 26 28 30]]\n",
      "[[-10 -10 -10 -10 -10]\n",
      " [-10 -10 -10 -10 -10]]\n",
      "[[ 11  24  39  56  75]\n",
      " [ 96 119 144 171 200]]\n",
      "[[0.09090909 0.16666667 0.23076923 0.28571429 0.33333333]\n",
      " [0.375      0.41176471 0.44444444 0.47368421 0.5       ]]\n"
     ]
    }
   ],
   "source": [
    "# + - * /\n",
    "\n",
    "# create an array each shoul have shape 2,5\n",
    "\n",
    "a1 = np.arange(1,11).reshape(2,5)\n",
    "a2 = np.arange(11,21).reshape(2,5)\n",
    "print(a1+a2)\n",
    "print(a1-a2)\n",
    "print(a1*a2)\n",
    "print(a1/a2)"
   ]
  },
  {
   "cell_type": "code",
   "execution_count": 27,
   "id": "ecffba2c-bafb-46f8-810f-58bc007a354b",
   "metadata": {},
   "outputs": [
    {
     "name": "stdout",
     "output_type": "stream",
     "text": [
      "1\n",
      "16\n",
      "136\n",
      "8.5\n",
      "4.6097722286464435\n"
     ]
    }
   ],
   "source": [
    "import numpy as np\n",
    "\n",
    "a1 = np.arange(1,17).reshape(4,4)\n",
    "\n",
    "# Aggregate Methos=ds or Functions\n",
    "print(a1.min())\n",
    "print(a1.max())\n",
    "print(a1.sum())\n",
    "print(a1.mean())\n",
    "# print(a1.mode())\n",
    "# print(a1.median())\n",
    "print(a1.std())"
   ]
  },
  {
   "cell_type": "code",
   "execution_count": 32,
   "id": "1ba17614-d335-4743-87f6-9bdb0cca94d0",
   "metadata": {},
   "outputs": [
    {
     "name": "stdout",
     "output_type": "stream",
     "text": [
      "[[1.         1.41421356 1.73205081 2.        ]\n",
      " [2.23606798 2.44948974 2.64575131 2.82842712]\n",
      " [3.         3.16227766 3.31662479 3.46410162]\n",
      " [3.60555128 3.74165739 3.87298335 4.        ]]\n",
      "[[0.         0.69314718 1.09861229 1.38629436]\n",
      " [1.60943791 1.79175947 1.94591015 2.07944154]\n",
      " [2.19722458 2.30258509 2.39789527 2.48490665]\n",
      " [2.56494936 2.63905733 2.7080502  2.77258872]]\n",
      "[[ 0.84147098  0.90929743  0.14112001 -0.7568025 ]\n",
      " [-0.95892427 -0.2794155   0.6569866   0.98935825]\n",
      " [ 0.41211849 -0.54402111 -0.99999021 -0.53657292]\n",
      " [ 0.42016704  0.99060736  0.65028784 -0.28790332]]\n",
      "[[ 0.54030231 -0.41614684 -0.9899925  -0.65364362]\n",
      " [ 0.28366219  0.96017029  0.75390225 -0.14550003]\n",
      " [-0.91113026 -0.83907153  0.0044257   0.84385396]\n",
      " [ 0.90744678  0.13673722 -0.75968791 -0.95765948]]\n",
      "[[ 1.55740772e+00 -2.18503986e+00 -1.42546543e-01  1.15782128e+00]\n",
      " [-3.38051501e+00 -2.91006191e-01  8.71447983e-01 -6.79971146e+00]\n",
      " [-4.52315659e-01  6.48360827e-01 -2.25950846e+02 -6.35859929e-01]\n",
      " [ 4.63021133e-01  7.24460662e+00 -8.55993401e-01  3.00632242e-01]]\n"
     ]
    }
   ],
   "source": [
    "# Universal Methods/ Functions\n",
    "print(np.sqrt(a1))\n",
    "print(np.log(a1))\n",
    "print(np.sin(a1))\n",
    "print(np.cos(a1))\n",
    "print(np.tan(a1))"
   ]
  },
  {
   "cell_type": "markdown",
   "id": "e23700f9-dd9e-4fb9-9eae-06e4869d4845",
   "metadata": {},
   "source": [
    "## Indexing and Slicing on 1D Array"
   ]
  },
  {
   "cell_type": "code",
   "execution_count": 39,
   "id": "c9dfec96-1160-412f-a6fa-cfae646e8355",
   "metadata": {},
   "outputs": [
    {
     "name": "stdout",
     "output_type": "stream",
     "text": [
      "[ 1  2  3  4  5  6  7  8  9 10]\n",
      "1\n",
      "2\n",
      "10\n",
      "9\n",
      "8\n",
      "8\n"
     ]
    }
   ],
   "source": [
    "import numpy as np\n",
    "\n",
    "a = np.array([1,2,3,4,5,6,7,8,9,10])\n",
    "print(a)\n",
    "\n",
    "# Positive Indexing\n",
    "print(a[0])\n",
    "print(a[1])\n",
    "\n",
    "# Negative Indexing\n",
    "print(a[-1])\n",
    "print(a[-2])\n",
    "\n",
    "# Printing number 8 using -ve as well as +ve\n",
    "print(a[7])\n",
    "print(a[-3])"
   ]
  },
  {
   "cell_type": "markdown",
   "id": "c05b6461-fa7f-46f9-b31c-93e33c17a688",
   "metadata": {},
   "source": [
    "## Slicing"
   ]
  },
  {
   "cell_type": "code",
   "execution_count": 48,
   "id": "883be7df-d515-4f9b-bdf9-7862a1506a56",
   "metadata": {},
   "outputs": [
    {
     "name": "stdout",
     "output_type": "stream",
     "text": [
      "[3 4 5 6]\n",
      "[1 2 3 4 5]\n",
      "[ 7  8  9 10]\n"
     ]
    }
   ],
   "source": [
    "# Syntax: a[start:end:step]\n",
    "\n",
    "# Positive - print 3,4,5,6\n",
    "print(a[2:6])\n",
    "\n",
    "# Print First 5\n",
    "print(a[:5])\n",
    "\n",
    "# Print Last 4\n",
    "print(a[6:10])"
   ]
  },
  {
   "cell_type": "code",
   "execution_count": 51,
   "id": "6b132064-7efd-415b-b921-6e48122e2303",
   "metadata": {},
   "outputs": [
    {
     "name": "stdout",
     "output_type": "stream",
     "text": [
      "[3 5 7]\n",
      "[1 3 5]\n"
     ]
    }
   ],
   "source": [
    "print(a[2:7:2])\n",
    "print(a[:6:2])"
   ]
  },
  {
   "cell_type": "code",
   "execution_count": 73,
   "id": "edae63ae-4b85-4881-a8cf-454e0b78c8a1",
   "metadata": {},
   "outputs": [
    {
     "name": "stdout",
     "output_type": "stream",
     "text": [
      "[5 4 3 2]\n",
      "[8 5 5 4 3]\n",
      "[3 5 4 2]\n",
      "[8 4 1]\n",
      "[3 3]\n",
      "[5 4 3 2]\n",
      "[8 5 5 4 3]\n",
      "[3 5 4 2]\n",
      "[8 4 1]\n",
      "[3 3]\n"
     ]
    }
   ],
   "source": [
    "## Reversing\n",
    "\n",
    "# 5432\n",
    "# 85543\n",
    "# 3542\n",
    "# 841\n",
    "# 33\n",
    "\n",
    "a=np.array([1,2,3,4,5,5,8,3])\n",
    "print(a[-4:-8:-1])\n",
    "print(a[-2:-7:-1])\n",
    "print(a[-1:-8:-2])\n",
    "print(a[-2:-9:-3])\n",
    "print(a[-1:-8:-5])\n",
    "\n",
    "print(a[4:0:-1])\n",
    "print(a[6:1:-1])\n",
    "print(a[8:0:-2])\n",
    "print(a[6::-3])\n",
    "print(a[8:1:-5])"
   ]
  },
  {
   "cell_type": "code",
   "execution_count": 1,
   "id": "4288a200-dde2-4a35-b4e3-ed65741ef2ca",
   "metadata": {},
   "outputs": [
    {
     "name": "stdout",
     "output_type": "stream",
     "text": [
      "[[ 1  2  3  4]\n",
      " [ 5  6  7  8]\n",
      " [ 9 10 11 12]\n",
      " [13 14 15 16]]\n",
      "11\n",
      "8\n",
      "5\n",
      "3\n",
      "9\n",
      "8\n",
      "5\n",
      "3\n"
     ]
    }
   ],
   "source": [
    "import numpy as np\n",
    "x=np.arange(1,17).reshape(4,4)\n",
    "print(x)\n",
    "print(x[2,2])\n",
    "#8\n",
    "print(x[1,3])\n",
    "#5\n",
    "print(x[1,0])\n",
    "#3\n",
    "print(x[0,2])\n",
    "#9\n",
    "print(x[-2,-4])\n",
    "#8\n",
    "print(x[-3,-1])\n",
    "#5\n",
    "print(x[-3,-4])\n",
    "#3\n",
    "print(x[-4,-2])"
   ]
  },
  {
   "cell_type": "code",
   "execution_count": null,
   "id": "6888717f-d9c1-460b-a18f-c6fa82a42e71",
   "metadata": {},
   "outputs": [],
   "source": []
  },
  {
   "cell_type": "code",
   "execution_count": 7,
   "id": "1c8b2e21-f73a-4c19-b8f8-7a6beb4f52e5",
   "metadata": {},
   "outputs": [
    {
     "name": "stdout",
     "output_type": "stream",
     "text": [
      "[[ 1  2  3  4]\n",
      " [ 5  6  7  8]\n",
      " [ 9 10 11 12]\n",
      " [13 14 15 16]]\n",
      "[[ 6  7]\n",
      " [10 11]\n",
      " [14 15]]\n",
      "[[2 3]\n",
      " [6 7]]\n",
      "[[ 5  6  7]\n",
      " [ 9 10 11]]\n",
      "[[ 1  3]\n",
      " [ 5  7]\n",
      " [ 9 11]]\n",
      "[[ 6  8]\n",
      " [14 16]]\n",
      "[[10 11]\n",
      " [14 15]]\n",
      "[[ 2  4]\n",
      " [ 6  8]\n",
      " [10 12]]\n",
      "[[ 1  3]\n",
      " [ 5  7]\n",
      " [ 9 11]]\n",
      "[[ 6  8]\n",
      " [14 16]]\n"
     ]
    }
   ],
   "source": [
    "#slicing for 2d array\n",
    "print(x)\n",
    "#positive slicing\n",
    "#syntax for positive\n",
    "#x[row_slicing,column slicing]\n",
    "#x[start:end:step,start:end:step]\n",
    "#[6,7,10,11,14,15]\n",
    "print(x[1:4,1:3])\n",
    "print(x[0:2,1:3])\n",
    "print(x[1:3,0:3])\n",
    "print(x[0:3,0:3:2])\n",
    "print(x[1:4:2,1:4:2])\n",
    "print(x[2:4,1:3])\n",
    "\n",
    "print(x[:3,1::2])\n",
    "print(x[:3,:3:2])\n",
    "print(x[1::2,1::2])"
   ]
  },
  {
   "cell_type": "markdown",
   "id": "78d32e93-b269-47b6-a18b-02012e4ac7f8",
   "metadata": {},
   "source": [
    "#### Negative Slicing in 2D Array"
   ]
  },
  {
   "cell_type": "code",
   "execution_count": 4,
   "id": "cb599ef4-bf77-42f8-9980-4c096167f92c",
   "metadata": {},
   "outputs": [
    {
     "name": "stdout",
     "output_type": "stream",
     "text": [
      "[[ 1  2  3  4]\n",
      " [ 5  6  7  8]\n",
      " [ 9 10 11 12]\n",
      " [13 14 15 16]]\n"
     ]
    }
   ],
   "source": [
    "import numpy as np\n",
    "x=np.arange(1,17).reshape(4,4)\n",
    "print(x)"
   ]
  },
  {
   "cell_type": "code",
   "execution_count": 6,
   "id": "1736977d-454a-4cd0-9bba-2871f27395f2",
   "metadata": {},
   "outputs": [
    {
     "name": "stdout",
     "output_type": "stream",
     "text": [
      "[[ 5  6  7]\n",
      " [ 9 10 11]]\n"
     ]
    }
   ],
   "source": [
    "print(x[-3:-1,-4:-1])"
   ]
  },
  {
   "cell_type": "code",
   "execution_count": 17,
   "id": "384cdb81-7c69-4b96-a5c9-3082c45fa4d7",
   "metadata": {},
   "outputs": [
    {
     "name": "stdout",
     "output_type": "stream",
     "text": [
      "[[ 6  7]\n",
      " [10 11]\n",
      " [14 15]]\n",
      "[[2 3]\n",
      " [6 7]]\n",
      "[[2 4]\n",
      " [6 8]]\n",
      "[[ 1  3]\n",
      " [13 15]]\n"
     ]
    }
   ],
   "source": [
    "print(x[-3:,-3:-1])\n",
    "print(x[-4:-2,-3:-1])\n",
    "print(x[-4:-2,-3::2])\n",
    "print(x[::3,::2])\n",
    "print(x[::3,::2])"
   ]
  },
  {
   "cell_type": "markdown",
   "id": "f11f7a6b-6500-4860-849a-9d0c50e03cf7",
   "metadata": {},
   "source": [
    "### Reversing 2D Array"
   ]
  },
  {
   "cell_type": "markdown",
   "id": "b95caa92-fda4-4e8e-9184-f3f8cc2aaced",
   "metadata": {},
   "source": [
    "#### Positive Indexing and Negative Indexing"
   ]
  },
  {
   "cell_type": "code",
   "execution_count": 40,
   "id": "a626c818-b807-4806-a8e9-58933b0f6923",
   "metadata": {},
   "outputs": [
    {
     "name": "stdout",
     "output_type": "stream",
     "text": [
      "[[13 14 15]\n",
      " [ 9 10 11]]\n",
      "[[13 14 15]\n",
      " [ 9 10 11]]\n",
      "[[6 7 8]\n",
      " [2 3 4]]\n",
      "[[6 7 8]\n",
      " [2 3 4]]\n",
      "[[4 3 2]\n",
      " [8 7 6]]\n",
      "[[4 3 2]\n",
      " [8 7 6]]\n"
     ]
    }
   ],
   "source": [
    "# Example:\n",
    "# [[ 1  2  3  4]\n",
    "# [ 5  6  7  8]\n",
    "# [ 9 10 11 12]\n",
    "# [13 14 15 16]]\n",
    "\n",
    "# [[13 14 15]\n",
    "# [ 9 10 11]]\n",
    "\n",
    "print(x[3:1:-1,0:3])\n",
    "print(x[-1:-3:-1,-4:-1])\n",
    "\n",
    "# [[6,7,8]\n",
    "# [2,3,4]]\n",
    "\n",
    "print(x[1::-1,1:])\n",
    "print(x[-3::-1,-3:])\n",
    "\n",
    "print(x[:2,3:0:-1])\n",
    "print(x[:-2,-1:-4:-1])\n",
    "\n",
    "# [[8,6]\n",
    "[16,14]]\n",
    "\n",
    "# [[11,9]\n",
    "[15,13]]\n",
    "\n",
    "# [[6,7]\n",
    "[10,11]\n",
    "[14,15]]\n",
    "\n",
    "# Reasoning: Why we have to use numpy array instead of list for storing??"
   ]
  },
  {
   "cell_type": "markdown",
   "id": "2c10cce0-f979-451c-b78c-f51492943293",
   "metadata": {},
   "source": [
    "#### Iterating through the array"
   ]
  },
  {
   "cell_type": "markdown",
   "id": "c2c5a7f2-c5f0-472f-814c-6b215202e7a5",
   "metadata": {},
   "source": [
    "#### For 1D Array"
   ]
  },
  {
   "cell_type": "code",
   "execution_count": 43,
   "id": "3ca03b69-942a-463a-9a42-3229a80f4b94",
   "metadata": {},
   "outputs": [
    {
     "name": "stdout",
     "output_type": "stream",
     "text": [
      "[ 1  2  3  4  5  6  7  8  9 10 11 12 13 14 15 16]\n",
      "1\n",
      "2\n",
      "3\n",
      "4\n",
      "5\n",
      "6\n",
      "7\n",
      "8\n",
      "9\n",
      "10\n",
      "11\n",
      "12\n",
      "13\n",
      "14\n",
      "15\n",
      "16\n"
     ]
    }
   ],
   "source": [
    "a = np.arange(1,17)\n",
    "print(a)\n",
    "\n",
    "for i in a:\n",
    "    print(i)"
   ]
  },
  {
   "cell_type": "markdown",
   "id": "3b6d91bc-2b9a-4875-b3ab-20d17c7a528b",
   "metadata": {},
   "source": [
    "#### For 2D Array"
   ]
  },
  {
   "cell_type": "code",
   "execution_count": 56,
   "id": "123b58e3-3851-4cb6-b553-d1b87b5618cb",
   "metadata": {},
   "outputs": [
    {
     "name": "stdout",
     "output_type": "stream",
     "text": [
      "[ 1  2  3  4  5  6  7  8  9 10 11 12 13 14 15 16]\n",
      "1\n"
     ]
    },
    {
     "ename": "TypeError",
     "evalue": "'numpy.int32' object is not iterable",
     "output_type": "error",
     "traceback": [
      "\u001b[1;31m---------------------------------------------------------------------------\u001b[0m",
      "\u001b[1;31mTypeError\u001b[0m                                 Traceback (most recent call last)",
      "Cell \u001b[1;32mIn[56], line 7\u001b[0m\n\u001b[0;32m      5\u001b[0m \u001b[38;5;28;01mfor\u001b[39;00m i \u001b[38;5;129;01min\u001b[39;00m a:\n\u001b[0;32m      6\u001b[0m     \u001b[38;5;28mprint\u001b[39m(i)\n\u001b[1;32m----> 7\u001b[0m     \u001b[38;5;28;01mfor\u001b[39;00m j \u001b[38;5;129;01min\u001b[39;00m i:\n\u001b[0;32m      8\u001b[0m         \u001b[38;5;28mprint\u001b[39m(j)\n",
      "\u001b[1;31mTypeError\u001b[0m: 'numpy.int32' object is not iterable"
     ]
    }
   ],
   "source": [
    "import numpy\n",
    "a = np.arange(1,17)\n",
    "print(a)\n",
    "\n",
    "for i in a:\n",
    "    print(i)\n",
    "    for j in i:\n",
    "        print(j)"
   ]
  },
  {
   "cell_type": "markdown",
   "id": "bec86f7b-e581-4bf6-9b0d-d43bf279b79b",
   "metadata": {},
   "source": [
    "# Stacking"
   ]
  },
  {
   "cell_type": "markdown",
   "id": "a185e717-4ea6-41d1-8d2f-f4b8ea88a014",
   "metadata": {},
   "source": [
    "## Horizontal Stacking"
   ]
  },
  {
   "cell_type": "code",
   "execution_count": 62,
   "id": "02e7109e-ae8b-4f66-9ccf-148f4e82e07d",
   "metadata": {},
   "outputs": [
    {
     "name": "stdout",
     "output_type": "stream",
     "text": [
      "[[0 1]\n",
      " [2 3]\n",
      " [4 5]]\n",
      "[[ 6  7]\n",
      " [ 8  9]\n",
      " [10 11]]\n",
      "hstack\n",
      " [[ 0  1  6  7]\n",
      " [ 2  3  8  9]\n",
      " [ 4  5 10 11]]\n"
     ]
    }
   ],
   "source": [
    "a=np.arange(6).reshape(3,2)\n",
    "print(a)\n",
    "b=np.arange(6,12).reshape(3,2)\n",
    "print(b)\n",
    "\n",
    "h = np.hstack((a,b))\n",
    "print(\"hstack\\n\",h)"
   ]
  },
  {
   "cell_type": "markdown",
   "id": "fdc7d215-0871-4f9e-9288-1f79f5dc2c8f",
   "metadata": {},
   "source": [
    "## Vertical Stacking"
   ]
  },
  {
   "cell_type": "code",
   "execution_count": 63,
   "id": "371624fb-cfcc-4600-9f26-0fa4bb2b8579",
   "metadata": {},
   "outputs": [
    {
     "name": "stdout",
     "output_type": "stream",
     "text": [
      "vstack\n",
      " [[ 0  1]\n",
      " [ 2  3]\n",
      " [ 4  5]\n",
      " [ 6  7]\n",
      " [ 8  9]\n",
      " [10 11]]\n"
     ]
    }
   ],
   "source": [
    "v = np.vstack((a,b))\n",
    "print(\"vstack\\n\",v)"
   ]
  },
  {
   "cell_type": "markdown",
   "id": "6d68bbee-f3e9-476a-91b6-116a86508564",
   "metadata": {},
   "source": [
    "## Splitting of an Array"
   ]
  },
  {
   "cell_type": "code",
   "execution_count": 77,
   "id": "d2c6f248-8a8d-49ac-b24e-635d0579079e",
   "metadata": {},
   "outputs": [
    {
     "name": "stdout",
     "output_type": "stream",
     "text": [
      "[[ 0  1  2  3  4  5  6  7  8  9 10 11 12 13 14]\n",
      " [15 16 17 18 19 20 21 22 23 24 25 26 27 28 29]]\n",
      "[array([[ 0,  1,  2,  3,  4],\n",
      "       [15, 16, 17, 18, 19]]), array([[ 5,  6,  7,  8,  9],\n",
      "       [20, 21, 22, 23, 24]]), array([[10, 11, 12, 13, 14],\n",
      "       [25, 26, 27, 28, 29]])]\n",
      "[[ 1  2  3  4]\n",
      " [ 5  6  7  8]\n",
      " [ 9 10 11 12]\n",
      " [13 14 15 16]\n",
      " [17 18 19 20]\n",
      " [21 22 23 24]\n",
      " [25 26 27 28]\n",
      " [29 30 31 32]]\n",
      "[array([[1, 2, 3, 4],\n",
      "       [5, 6, 7, 8]]), array([[ 9, 10, 11, 12],\n",
      "       [13, 14, 15, 16]]), array([[17, 18, 19, 20],\n",
      "       [21, 22, 23, 24]]), array([[25, 26, 27, 28],\n",
      "       [29, 30, 31, 32]])]\n",
      "[array([[ 1,  2],\n",
      "       [ 5,  6],\n",
      "       [ 9, 10],\n",
      "       [13, 14],\n",
      "       [17, 18],\n",
      "       [21, 22],\n",
      "       [25, 26],\n",
      "       [29, 30]]), array([[ 3,  4],\n",
      "       [ 7,  8],\n",
      "       [11, 12],\n",
      "       [15, 16],\n",
      "       [19, 20],\n",
      "       [23, 24],\n",
      "       [27, 28],\n",
      "       [31, 32]])]\n"
     ]
    }
   ],
   "source": [
    "import numpy as np\n",
    "a = np.arange(30).reshape(2,15)\n",
    "print(a)\n",
    "\n",
    "# Horizontal Splitting\n",
    "a = np.hsplit(a,3)\n",
    "print(a)\n",
    "\n",
    "\n",
    "# Create an Array it should have 8 rows and 4 columns\n",
    "\n",
    "a = np.arange(1,33).reshape(8,4)\n",
    "print(a)\n",
    "\n",
    "# Vertical Splitting\n",
    "a1 = np.vsplit(a,4)\n",
    "print(a1)\n",
    "\n",
    "# Horizontal Splitting\n",
    "a2 = np.hsplit(a,2)\n",
    "print(a2)\n",
    "\n",
    "# Create an Array it should have 12 rows and 8 columns\n",
    "# Split array with all possible cases"
   ]
  },
  {
   "cell_type": "code",
   "execution_count": null,
   "id": "cfb39ef8-5541-4a5c-bbe6-41681eb14c89",
   "metadata": {},
   "outputs": [],
   "source": []
  }
 ],
 "metadata": {
  "kernelspec": {
   "display_name": "Python 3 (ipykernel)",
   "language": "python",
   "name": "python3"
  },
  "language_info": {
   "codemirror_mode": {
    "name": "ipython",
    "version": 3
   },
   "file_extension": ".py",
   "mimetype": "text/x-python",
   "name": "python",
   "nbconvert_exporter": "python",
   "pygments_lexer": "ipython3",
   "version": "3.11.7"
  }
 },
 "nbformat": 4,
 "nbformat_minor": 5
}
